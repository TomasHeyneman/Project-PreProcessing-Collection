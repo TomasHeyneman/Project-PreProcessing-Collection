{
 "cells": [
  {
   "attachments": {},
   "cell_type": "markdown",
   "metadata": {},
   "source": [
    "# Context Dataset \n",
    "https://www.kaggle.com/datasets/muhammedzidan/car-prices-market?resource=download \n",
    "\n",
    "ABOUT CAR PRICES MARKET\n",
    "\n",
    "This dataset provides a comprehensive list of OLD and NEW car prices in the market, with information on various factors such as car make, model, year, engine size, fuel type, transmission type, and more. With over 10,000 data points, this dataset allows for in-depth analysis and exploration of the dynamics of car prices in the market, making it a valuable resource for researchers, analysts, and car enthusiasts alike."
   ]
  },
  {
   "attachments": {},
   "cell_type": "markdown",
   "metadata": {},
   "source": [
    "# Content\n",
    "## Used Cars Prices\n",
    "Here you find 78612 records about used cars:\n",
    "60 Brand, 382 Model, 33 Modelyear,\n",
    "1839 CarModel, 1397 AveragePrice,\n",
    "893 MinimumPrice, 916 MaximumPrice,\n",
    "over 128 Months/Year.\n",
    "\n",
    "## New Cars Prices\n",
    "Here you find 3433 records about new cars:\n",
    "1119 OldPrice, 410 ChangValue, 1162 NewPrice\n",
    "with 268 ChangeDate,\n",
    "on 49 Brand, 178 Model,\n",
    "over 4 Years"
   ]
  },
  {
   "attachments": {},
   "cell_type": "markdown",
   "metadata": {},
   "source": [
    "# 0. Import Libraries"
   ]
  },
  {
   "cell_type": "code",
   "execution_count": 855,
   "metadata": {},
   "outputs": [],
   "source": [
    "import pandas as pd\n",
    "import numpy as np\n",
    "import matplotlib.pyplot as plt"
   ]
  },
  {
   "attachments": {},
   "cell_type": "markdown",
   "metadata": {},
   "source": [
    "# 1. Explore and analyze data"
   ]
  },
  {
   "cell_type": "code",
   "execution_count": 856,
   "metadata": {},
   "outputs": [],
   "source": [
    "# Load the used cars dataset\n",
    "used_cars = pd.read_csv('used_car_prices.csv')"
   ]
  },
  {
   "cell_type": "code",
   "execution_count": 857,
   "metadata": {},
   "outputs": [],
   "source": [
    "# Load the new cars dataset\n",
    "new_cars = pd.read_csv('new_cars_prices.csv')"
   ]
  },
  {
   "cell_type": "code",
   "execution_count": 858,
   "metadata": {},
   "outputs": [
    {
     "data": {
      "text/html": [
       "<div>\n",
       "<style scoped>\n",
       "    .dataframe tbody tr th:only-of-type {\n",
       "        vertical-align: middle;\n",
       "    }\n",
       "\n",
       "    .dataframe tbody tr th {\n",
       "        vertical-align: top;\n",
       "    }\n",
       "\n",
       "    .dataframe thead th {\n",
       "        text-align: right;\n",
       "    }\n",
       "</style>\n",
       "<table border=\"1\" class=\"dataframe\">\n",
       "  <thead>\n",
       "    <tr style=\"text-align: right;\">\n",
       "      <th></th>\n",
       "      <th>web-scraper-order</th>\n",
       "      <th>Car Model</th>\n",
       "      <th>Month/Year</th>\n",
       "      <th>Average price</th>\n",
       "      <th>Minimum price</th>\n",
       "      <th>Maximum price</th>\n",
       "    </tr>\n",
       "  </thead>\n",
       "  <tbody>\n",
       "    <tr>\n",
       "      <th>0</th>\n",
       "      <td>1680204632-1</td>\n",
       "      <td>Skoda Octavia A8 2022</td>\n",
       "      <td>2023-03</td>\n",
       "      <td>967,000 EGP</td>\n",
       "      <td>926,000 EGP</td>\n",
       "      <td>1,017,000 EGP</td>\n",
       "    </tr>\n",
       "    <tr>\n",
       "      <th>1</th>\n",
       "      <td>1680204632-2</td>\n",
       "      <td>Skoda Octavia A8 2022</td>\n",
       "      <td>2023-02</td>\n",
       "      <td>979,000 EGP</td>\n",
       "      <td>931,000 EGP</td>\n",
       "      <td>1,045,000 EGP</td>\n",
       "    </tr>\n",
       "    <tr>\n",
       "      <th>2</th>\n",
       "      <td>1680204632-3</td>\n",
       "      <td>Skoda Octavia A8 2022</td>\n",
       "      <td>2023-01</td>\n",
       "      <td>917,000 EGP</td>\n",
       "      <td>893,000 EGP</td>\n",
       "      <td>950,000 EGP</td>\n",
       "    </tr>\n",
       "    <tr>\n",
       "      <th>3</th>\n",
       "      <td>1680204632-4</td>\n",
       "      <td>Skoda Octavia A8 2022</td>\n",
       "      <td>2022-12</td>\n",
       "      <td>881,000 EGP</td>\n",
       "      <td>793,000 EGP</td>\n",
       "      <td>950,000 EGP</td>\n",
       "    </tr>\n",
       "    <tr>\n",
       "      <th>4</th>\n",
       "      <td>1680204632-5</td>\n",
       "      <td>Skoda Octavia A8 2022</td>\n",
       "      <td>2022-11</td>\n",
       "      <td>868,000 EGP</td>\n",
       "      <td>789,000 EGP</td>\n",
       "      <td>950,000 EGP</td>\n",
       "    </tr>\n",
       "  </tbody>\n",
       "</table>\n",
       "</div>"
      ],
      "text/plain": [
       "  web-scraper-order              Car Model Month/Year Average price  \\\n",
       "0      1680204632-1  Skoda Octavia A8 2022    2023-03   967,000 EGP   \n",
       "1      1680204632-2  Skoda Octavia A8 2022    2023-02   979,000 EGP   \n",
       "2      1680204632-3  Skoda Octavia A8 2022    2023-01   917,000 EGP   \n",
       "3      1680204632-4  Skoda Octavia A8 2022    2022-12   881,000 EGP   \n",
       "4      1680204632-5  Skoda Octavia A8 2022    2022-11   868,000 EGP   \n",
       "\n",
       "  Minimum price  Maximum price  \n",
       "0   926,000 EGP  1,017,000 EGP  \n",
       "1   931,000 EGP  1,045,000 EGP  \n",
       "2   893,000 EGP    950,000 EGP  \n",
       "3   793,000 EGP    950,000 EGP  \n",
       "4   789,000 EGP    950,000 EGP  "
      ]
     },
     "execution_count": 858,
     "metadata": {},
     "output_type": "execute_result"
    }
   ],
   "source": [
    "# head() method shows the first 5 rows of the dataset\n",
    "used_cars.head()"
   ]
  },
  {
   "cell_type": "code",
   "execution_count": 859,
   "metadata": {},
   "outputs": [
    {
     "data": {
      "text/html": [
       "<div>\n",
       "<style scoped>\n",
       "    .dataframe tbody tr th:only-of-type {\n",
       "        vertical-align: middle;\n",
       "    }\n",
       "\n",
       "    .dataframe tbody tr th {\n",
       "        vertical-align: top;\n",
       "    }\n",
       "\n",
       "    .dataframe thead th {\n",
       "        text-align: right;\n",
       "    }\n",
       "</style>\n",
       "<table border=\"1\" class=\"dataframe\">\n",
       "  <thead>\n",
       "    <tr style=\"text-align: right;\">\n",
       "      <th></th>\n",
       "      <th>web-scraper-order</th>\n",
       "      <th>Car Model</th>\n",
       "      <th>Month/Year</th>\n",
       "      <th>Average price</th>\n",
       "      <th>Minimum price</th>\n",
       "      <th>Maximum price</th>\n",
       "    </tr>\n",
       "  </thead>\n",
       "  <tbody>\n",
       "    <tr>\n",
       "      <th>79085</th>\n",
       "      <td>1680204632-79086</td>\n",
       "      <td>Lada 2107 1991</td>\n",
       "      <td>2018-08</td>\n",
       "      <td>30,000 EGP</td>\n",
       "      <td>26,000 EGP</td>\n",
       "      <td>33,000 EGP</td>\n",
       "    </tr>\n",
       "    <tr>\n",
       "      <th>79086</th>\n",
       "      <td>1680204632-79087</td>\n",
       "      <td>Lada 2107 1991</td>\n",
       "      <td>2018-07</td>\n",
       "      <td>33,000 EGP</td>\n",
       "      <td>32,000 EGP</td>\n",
       "      <td>35,000 EGP</td>\n",
       "    </tr>\n",
       "    <tr>\n",
       "      <th>79087</th>\n",
       "      <td>1680204632-79088</td>\n",
       "      <td>Lada 2107 1991</td>\n",
       "      <td>2018-01</td>\n",
       "      <td>28,000 EGP</td>\n",
       "      <td>25,000 EGP</td>\n",
       "      <td>30,000 EGP</td>\n",
       "    </tr>\n",
       "    <tr>\n",
       "      <th>79088</th>\n",
       "      <td>1680204632-79089</td>\n",
       "      <td>Lada 2107 1991</td>\n",
       "      <td>2017-12</td>\n",
       "      <td>27,000 EGP</td>\n",
       "      <td>25,000 EGP</td>\n",
       "      <td>28,000 EGP</td>\n",
       "    </tr>\n",
       "    <tr>\n",
       "      <th>79089</th>\n",
       "      <td>1680204632-79090</td>\n",
       "      <td>Lada 2107 1991</td>\n",
       "      <td>2016-03</td>\n",
       "      <td>24,000 EGP</td>\n",
       "      <td>23,000 EGP</td>\n",
       "      <td>26,000 EGP</td>\n",
       "    </tr>\n",
       "  </tbody>\n",
       "</table>\n",
       "</div>"
      ],
      "text/plain": [
       "      web-scraper-order       Car Model Month/Year Average price  \\\n",
       "79085  1680204632-79086  Lada 2107 1991    2018-08    30,000 EGP   \n",
       "79086  1680204632-79087  Lada 2107 1991    2018-07    33,000 EGP   \n",
       "79087  1680204632-79088  Lada 2107 1991    2018-01    28,000 EGP   \n",
       "79088  1680204632-79089  Lada 2107 1991    2017-12    27,000 EGP   \n",
       "79089  1680204632-79090  Lada 2107 1991    2016-03    24,000 EGP   \n",
       "\n",
       "      Minimum price Maximum price  \n",
       "79085    26,000 EGP    33,000 EGP  \n",
       "79086    32,000 EGP    35,000 EGP  \n",
       "79087    25,000 EGP    30,000 EGP  \n",
       "79088    25,000 EGP    28,000 EGP  \n",
       "79089    23,000 EGP    26,000 EGP  "
      ]
     },
     "execution_count": 859,
     "metadata": {},
     "output_type": "execute_result"
    }
   ],
   "source": [
    "# tail of the dataset\n",
    "used_cars.tail()"
   ]
  },
  {
   "cell_type": "code",
   "execution_count": 860,
   "metadata": {},
   "outputs": [
    {
     "data": {
      "text/html": [
       "<div>\n",
       "<style scoped>\n",
       "    .dataframe tbody tr th:only-of-type {\n",
       "        vertical-align: middle;\n",
       "    }\n",
       "\n",
       "    .dataframe tbody tr th {\n",
       "        vertical-align: top;\n",
       "    }\n",
       "\n",
       "    .dataframe thead th {\n",
       "        text-align: right;\n",
       "    }\n",
       "</style>\n",
       "<table border=\"1\" class=\"dataframe\">\n",
       "  <thead>\n",
       "    <tr style=\"text-align: right;\">\n",
       "      <th></th>\n",
       "      <th>web-scraper-order</th>\n",
       "      <th>Car Model</th>\n",
       "      <th>Month/Year</th>\n",
       "      <th>Average price</th>\n",
       "      <th>Minimum price</th>\n",
       "      <th>Maximum price</th>\n",
       "    </tr>\n",
       "  </thead>\n",
       "  <tbody>\n",
       "    <tr>\n",
       "      <th>count</th>\n",
       "      <td>79090</td>\n",
       "      <td>79090</td>\n",
       "      <td>78612</td>\n",
       "      <td>78612</td>\n",
       "      <td>78612</td>\n",
       "      <td>78612</td>\n",
       "    </tr>\n",
       "    <tr>\n",
       "      <th>top</th>\n",
       "      <td>1680204632-1</td>\n",
       "      <td>Hyundai Excel 1996</td>\n",
       "      <td>2022-11</td>\n",
       "      <td>76,000 EGP</td>\n",
       "      <td>71,000 EGP</td>\n",
       "      <td>81,000 EGP</td>\n",
       "    </tr>\n",
       "  </tbody>\n",
       "</table>\n",
       "</div>"
      ],
      "text/plain": [
       "      web-scraper-order           Car Model Month/Year Average price  \\\n",
       "count             79090               79090      78612         78612   \n",
       "top        1680204632-1  Hyundai Excel 1996    2022-11    76,000 EGP   \n",
       "\n",
       "      Minimum price Maximum price  \n",
       "count         78612         78612  \n",
       "top      71,000 EGP    81,000 EGP  "
      ]
     },
     "execution_count": 860,
     "metadata": {},
     "output_type": "execute_result"
    }
   ],
   "source": [
    "# describe with some aspects only, like max values\n",
    "used_cars.describe().loc[['count','top']]"
   ]
  },
  {
   "cell_type": "code",
   "execution_count": 861,
   "metadata": {},
   "outputs": [
    {
     "name": "stdout",
     "output_type": "stream",
     "text": [
      "<class 'pandas.core.frame.DataFrame'>\n",
      "RangeIndex: 79090 entries, 0 to 79089\n",
      "Data columns (total 6 columns):\n",
      " #   Column             Non-Null Count  Dtype \n",
      "---  ------             --------------  ----- \n",
      " 0   web-scraper-order  79090 non-null  object\n",
      " 1   Car Model          79090 non-null  object\n",
      " 2   Month/Year         78612 non-null  object\n",
      " 3   Average price      78612 non-null  object\n",
      " 4   Minimum price      78612 non-null  object\n",
      " 5   Maximum price      78612 non-null  object\n",
      "dtypes: object(6)\n",
      "memory usage: 3.6+ MB\n"
     ]
    }
   ],
   "source": [
    "# info() method to get a brief description of the dataset\n",
    "used_cars.info()"
   ]
  },
  {
   "cell_type": "code",
   "execution_count": 862,
   "metadata": {},
   "outputs": [
    {
     "data": {
      "text/plain": [
       "(79090, 6)"
      ]
     },
     "execution_count": 862,
     "metadata": {},
     "output_type": "execute_result"
    }
   ],
   "source": [
    "# shape attribute returns a tuple representing the dimensionality of the DataFrame\n",
    "used_cars.shape"
   ]
  },
  {
   "cell_type": "code",
   "execution_count": 863,
   "metadata": {},
   "outputs": [
    {
     "data": {
      "text/plain": [
       "web-scraper-order    object\n",
       "Car Model            object\n",
       "Month/Year           object\n",
       "Average price        object\n",
       "Minimum price        object\n",
       "Maximum price        object\n",
       "dtype: object"
      ]
     },
     "execution_count": 863,
     "metadata": {},
     "output_type": "execute_result"
    }
   ],
   "source": [
    "# dtypes attribute returns the data type of each column\n",
    "used_cars.dtypes"
   ]
  },
  {
   "attachments": {},
   "cell_type": "markdown",
   "metadata": {},
   "source": [
    "Column names, index changing¶"
   ]
  },
  {
   "cell_type": "code",
   "execution_count": 864,
   "metadata": {},
   "outputs": [
    {
     "data": {
      "text/plain": [
       "Index(['web-scraper-order', 'Car Model', 'Month/Year', 'Average price',\n",
       "       'Minimum price', 'Maximum price'],\n",
       "      dtype='object')"
      ]
     },
     "execution_count": 864,
     "metadata": {},
     "output_type": "execute_result"
    }
   ],
   "source": [
    "# columnns attribute returns a list of all the columns in the dataset\n",
    "used_cars.columns"
   ]
  },
  {
   "cell_type": "code",
   "execution_count": 865,
   "metadata": {},
   "outputs": [],
   "source": [
    "# Rename the columns for data consistency\n",
    "used_cars.rename(columns={\"web-scraper-order\" : \"web_scraper_order\",\n",
    "                        \"Car Model\"         : \"car_model\",\n",
    "                        \"Month/Year\"        : \"month_year\",\n",
    "                        \"Average price\"     : \"average_price\",\n",
    "                        \"Minimum price\"     : \"minimum_price\",\n",
    "                        \"Maximum price\"     :  \"maximum_price\"}, \n",
    "           inplace=True, errors='ignore') # can set raise error if needed"
   ]
  },
  {
   "cell_type": "code",
   "execution_count": 866,
   "metadata": {},
   "outputs": [],
   "source": [
    "# # reset index to start from 0\n",
    "# used_cars.reset_index(inplace = True, \n",
    "#                #drop = True \n",
    "#               )"
   ]
  },
  {
   "cell_type": "code",
   "execution_count": 867,
   "metadata": {},
   "outputs": [
    {
     "data": {
      "text/html": [
       "<div>\n",
       "<style scoped>\n",
       "    .dataframe tbody tr th:only-of-type {\n",
       "        vertical-align: middle;\n",
       "    }\n",
       "\n",
       "    .dataframe tbody tr th {\n",
       "        vertical-align: top;\n",
       "    }\n",
       "\n",
       "    .dataframe thead th {\n",
       "        text-align: right;\n",
       "    }\n",
       "</style>\n",
       "<table border=\"1\" class=\"dataframe\">\n",
       "  <thead>\n",
       "    <tr style=\"text-align: right;\">\n",
       "      <th></th>\n",
       "      <th>web_scraper_order</th>\n",
       "      <th>car_model</th>\n",
       "      <th>month_year</th>\n",
       "      <th>average_price</th>\n",
       "      <th>minimum_price</th>\n",
       "      <th>maximum_price</th>\n",
       "    </tr>\n",
       "  </thead>\n",
       "  <tbody>\n",
       "    <tr>\n",
       "      <th>0</th>\n",
       "      <td>1680204632-1</td>\n",
       "      <td>Skoda Octavia A8 2022</td>\n",
       "      <td>2023-03</td>\n",
       "      <td>967,000 EGP</td>\n",
       "      <td>926,000 EGP</td>\n",
       "      <td>1,017,000 EGP</td>\n",
       "    </tr>\n",
       "    <tr>\n",
       "      <th>1</th>\n",
       "      <td>1680204632-2</td>\n",
       "      <td>Skoda Octavia A8 2022</td>\n",
       "      <td>2023-02</td>\n",
       "      <td>979,000 EGP</td>\n",
       "      <td>931,000 EGP</td>\n",
       "      <td>1,045,000 EGP</td>\n",
       "    </tr>\n",
       "    <tr>\n",
       "      <th>2</th>\n",
       "      <td>1680204632-3</td>\n",
       "      <td>Skoda Octavia A8 2022</td>\n",
       "      <td>2023-01</td>\n",
       "      <td>917,000 EGP</td>\n",
       "      <td>893,000 EGP</td>\n",
       "      <td>950,000 EGP</td>\n",
       "    </tr>\n",
       "    <tr>\n",
       "      <th>3</th>\n",
       "      <td>1680204632-4</td>\n",
       "      <td>Skoda Octavia A8 2022</td>\n",
       "      <td>2022-12</td>\n",
       "      <td>881,000 EGP</td>\n",
       "      <td>793,000 EGP</td>\n",
       "      <td>950,000 EGP</td>\n",
       "    </tr>\n",
       "    <tr>\n",
       "      <th>4</th>\n",
       "      <td>1680204632-5</td>\n",
       "      <td>Skoda Octavia A8 2022</td>\n",
       "      <td>2022-11</td>\n",
       "      <td>868,000 EGP</td>\n",
       "      <td>789,000 EGP</td>\n",
       "      <td>950,000 EGP</td>\n",
       "    </tr>\n",
       "  </tbody>\n",
       "</table>\n",
       "</div>"
      ],
      "text/plain": [
       "  web_scraper_order              car_model month_year average_price  \\\n",
       "0      1680204632-1  Skoda Octavia A8 2022    2023-03   967,000 EGP   \n",
       "1      1680204632-2  Skoda Octavia A8 2022    2023-02   979,000 EGP   \n",
       "2      1680204632-3  Skoda Octavia A8 2022    2023-01   917,000 EGP   \n",
       "3      1680204632-4  Skoda Octavia A8 2022    2022-12   881,000 EGP   \n",
       "4      1680204632-5  Skoda Octavia A8 2022    2022-11   868,000 EGP   \n",
       "\n",
       "  minimum_price  maximum_price  \n",
       "0   926,000 EGP  1,017,000 EGP  \n",
       "1   931,000 EGP  1,045,000 EGP  \n",
       "2   893,000 EGP    950,000 EGP  \n",
       "3   793,000 EGP    950,000 EGP  \n",
       "4   789,000 EGP    950,000 EGP  "
      ]
     },
     "execution_count": 867,
     "metadata": {},
     "output_type": "execute_result"
    }
   ],
   "source": [
    "# have a look at the changed names of the columns\n",
    "used_cars.head()"
   ]
  },
  {
   "cell_type": "code",
   "execution_count": 868,
   "metadata": {},
   "outputs": [
    {
     "data": {
      "text/plain": [
       "web_scraper_order    79090\n",
       "car_model             1908\n",
       "month_year             128\n",
       "average_price         1397\n",
       "minimum_price          893\n",
       "maximum_price          916\n",
       "dtype: int64"
      ]
     },
     "execution_count": 868,
     "metadata": {},
     "output_type": "execute_result"
    }
   ],
   "source": [
    "# nunique() returns the number of unique values in each column\n",
    "used_cars.nunique()"
   ]
  },
  {
   "attachments": {},
   "cell_type": "markdown",
   "metadata": {},
   "source": [
    "Unique values, Value counts"
   ]
  },
  {
   "cell_type": "code",
   "execution_count": 869,
   "metadata": {},
   "outputs": [
    {
     "data": {
      "text/plain": [
       "0        6\n",
       "1        6\n",
       "2        6\n",
       "3        6\n",
       "4        6\n",
       "        ..\n",
       "79085    6\n",
       "79086    6\n",
       "79087    6\n",
       "79088    6\n",
       "79089    6\n",
       "Length: 79090, dtype: int64"
      ]
     },
     "execution_count": 869,
     "metadata": {},
     "output_type": "execute_result"
    }
   ],
   "source": [
    "# count number of distinct elements by column\n",
    "used_cars.nunique(axis=1)"
   ]
  },
  {
   "cell_type": "code",
   "execution_count": 870,
   "metadata": {},
   "outputs": [
    {
     "data": {
      "text/plain": [
       "array(['Skoda Octavia A8 2022', 'Seat Ateca 2021',\n",
       "       'Jeep Grand Cherokee 2015', ..., 'Lada 2107 1993',\n",
       "       'Lada 2105 1992', 'Lada 2107 1991'], dtype=object)"
      ]
     },
     "execution_count": 870,
     "metadata": {},
     "output_type": "execute_result"
    }
   ],
   "source": [
    "# used_cars.car_model.unique() to get the unique values of the car_model column\n",
    "used_cars.car_model.unique()"
   ]
  },
  {
   "cell_type": "code",
   "execution_count": 871,
   "metadata": {},
   "outputs": [
    {
     "data": {
      "text/plain": [
       "Hyundai Excel 1996      128\n",
       "Chevrolet Cruze 2010    128\n",
       "Hyundai Verna 2007      128\n",
       "Daewoo Lanos 2000       128\n",
       "Chevrolet Optra 2008    128\n",
       "                       ... \n",
       "Ford Focus 2022           2\n",
       "Hyundai I30 2008          2\n",
       "DFSK Glory 330 2021       2\n",
       "Audi Q3 2022              2\n",
       "Ford B-Max 2014           2\n",
       "Name: car_model, Length: 1908, dtype: int64"
      ]
     },
     "execution_count": 871,
     "metadata": {},
     "output_type": "execute_result"
    }
   ],
   "source": [
    "# used_cars[\"car_model\"].value_counts() to get the number of unique values of the car_model column\n",
    "used_cars[\"car_model\"].value_counts()"
   ]
  },
  {
   "cell_type": "code",
   "execution_count": 872,
   "metadata": {},
   "outputs": [
    {
     "data": {
      "text/plain": [
       "0"
      ]
     },
     "execution_count": 872,
     "metadata": {},
     "output_type": "execute_result"
    }
   ],
   "source": [
    "# check for missing values\n",
    "used_cars.duplicated().sum()"
   ]
  },
  {
   "attachments": {},
   "cell_type": "markdown",
   "metadata": {},
   "source": [
    "Null values\n"
   ]
  },
  {
   "cell_type": "code",
   "execution_count": 873,
   "metadata": {},
   "outputs": [
    {
     "name": "stdout",
     "output_type": "stream",
     "text": [
      "['Mercedes 180 2015' 'Kia Sorento 2019' 'Honda Civic 2020'\n",
      " 'Geely Okavango 2022' 'Seat Arona 2022' 'Honda Civic 2018'\n",
      " 'Mitsubishi Eclipse 2021' 'Mini Cooper 2017' 'Mercedes E 300 2011'\n",
      " 'Hyundai Tucson Turbo GDI 2017' 'Mitsubishi Eclipse 2019'\n",
      " 'Skoda Octavia A7 2017' 'Chevrolet T-Series 2013' 'Ford B-Max 2014'\n",
      " 'Hyundai I20 2011' 'Speranza A11 2023' 'Peugeot 308 2012'\n",
      " 'Seat Toledo 2018' 'Isuzu D max 2009' 'Mercedes C 200 2002'\n",
      " 'Chevrolet Pickup 2021' 'Peugeot 308 2015' 'Chevrolet T-Series 2020'\n",
      " 'Mercedes 240 1999' 'Mercedes B 150 2009' 'Mercedes 240 2003'\n",
      " 'Hyundai Accent HCI 2019' 'Kia Cerato Koup 2013' 'Suzuki Ertiga 2022'\n",
      " 'Mitsubishi Xpander 2021' 'Isuzu D max 2020' 'Chery Tiggo 2023'\n",
      " 'Volkswagen Tiguan 2010' 'Ssang Yong Tivoli 2020' 'Skoda Octavia A7 2019'\n",
      " 'Nissan Juke 2018' 'Mercedes C 180 2023' 'Mercedes GLC 200 2021'\n",
      " 'Mercedes CLA 180 2022' 'Mercedes A 200 2022' 'Mercedes E 200 2016'\n",
      " 'Cupra Formentor 2022' 'Land Rover Velar 2022' 'Volkswagen Golf 4 2000'\n",
      " 'Suzuki Alto 2021' 'Suzuki Pickup 2022' 'Toyota Avensis 2006'\n",
      " 'Peugeot 206 2011' 'Opel Corsa 2014' 'Daihatsu Gran max 2013'\n",
      " 'Hyundai Getz 2004' 'Chevrolet T-Series 2006' 'Chery Envy 2013'\n",
      " 'Daihatsu Gran max 2012' 'Geely EC7 2015' 'Chevrolet Sonic 2012'\n",
      " 'Geely Emgrand 2014' 'Toyota Camry 1998' 'Peugeot 406 2005'\n",
      " 'Hyundai Santamo 2001' 'Toyota Echo 2003' 'Ford Focus 2005'\n",
      " 'Chevrolet Aveo 2005' 'Mitsubishi Lancer Crystala 1996' 'Faw N5 2013'\n",
      " 'Hyundai Elantra 1995' 'Daewoo Matiz 2001' 'Chery A11 2007'\n",
      " 'Renault 19 1997']\n",
      "**************************************************\n",
      "[nan]\n",
      "**************************************************\n",
      "[nan]\n",
      "**************************************************\n",
      "[nan]\n",
      "**************************************************\n",
      "[nan]\n",
      "**************************************************\n"
     ]
    }
   ],
   "source": [
    "# check nulls in each row\n",
    "\n",
    "for i in used_cars.columns[1:]:\n",
    "    print(used_cars[used_cars.isna().any(axis=1)][i].unique())\n",
    "    print('*'*50)"
   ]
  },
  {
   "cell_type": "code",
   "execution_count": 874,
   "metadata": {},
   "outputs": [
    {
     "data": {
      "text/plain": [
       "month_year           478\n",
       "average_price        478\n",
       "minimum_price        478\n",
       "maximum_price        478\n",
       "web_scraper_order      0\n",
       "car_model              0\n",
       "dtype: int64"
      ]
     },
     "execution_count": 874,
     "metadata": {},
     "output_type": "execute_result"
    }
   ],
   "source": [
    "# isnull().sum() to get the number of missing values in each column\n",
    "used_cars.isnull().sum().sort_values(ascending=False)"
   ]
  },
  {
   "cell_type": "code",
   "execution_count": 875,
   "metadata": {},
   "outputs": [
    {
     "data": {
      "text/html": [
       "<div>\n",
       "<style scoped>\n",
       "    .dataframe tbody tr th:only-of-type {\n",
       "        vertical-align: middle;\n",
       "    }\n",
       "\n",
       "    .dataframe tbody tr th {\n",
       "        vertical-align: top;\n",
       "    }\n",
       "\n",
       "    .dataframe thead th {\n",
       "        text-align: right;\n",
       "    }\n",
       "</style>\n",
       "<table border=\"1\" class=\"dataframe\">\n",
       "  <thead>\n",
       "    <tr style=\"text-align: right;\">\n",
       "      <th></th>\n",
       "      <th>web_scraper_order</th>\n",
       "      <th>car_model</th>\n",
       "      <th>month_year</th>\n",
       "      <th>average_price</th>\n",
       "      <th>minimum_price</th>\n",
       "      <th>maximum_price</th>\n",
       "    </tr>\n",
       "  </thead>\n",
       "  <tbody>\n",
       "    <tr>\n",
       "      <th>380</th>\n",
       "      <td>1680204632-381</td>\n",
       "      <td>Mercedes 180 2015</td>\n",
       "      <td>NaN</td>\n",
       "      <td>NaN</td>\n",
       "      <td>NaN</td>\n",
       "      <td>NaN</td>\n",
       "    </tr>\n",
       "    <tr>\n",
       "      <th>381</th>\n",
       "      <td>1680204632-382</td>\n",
       "      <td>Mercedes 180 2015</td>\n",
       "      <td>NaN</td>\n",
       "      <td>NaN</td>\n",
       "      <td>NaN</td>\n",
       "      <td>NaN</td>\n",
       "    </tr>\n",
       "    <tr>\n",
       "      <th>382</th>\n",
       "      <td>1680204632-383</td>\n",
       "      <td>Mercedes 180 2015</td>\n",
       "      <td>NaN</td>\n",
       "      <td>NaN</td>\n",
       "      <td>NaN</td>\n",
       "      <td>NaN</td>\n",
       "    </tr>\n",
       "    <tr>\n",
       "      <th>383</th>\n",
       "      <td>1680204632-384</td>\n",
       "      <td>Mercedes 180 2015</td>\n",
       "      <td>NaN</td>\n",
       "      <td>NaN</td>\n",
       "      <td>NaN</td>\n",
       "      <td>NaN</td>\n",
       "    </tr>\n",
       "    <tr>\n",
       "      <th>384</th>\n",
       "      <td>1680204632-385</td>\n",
       "      <td>Mercedes 180 2015</td>\n",
       "      <td>NaN</td>\n",
       "      <td>NaN</td>\n",
       "      <td>NaN</td>\n",
       "      <td>NaN</td>\n",
       "    </tr>\n",
       "  </tbody>\n",
       "</table>\n",
       "</div>"
      ],
      "text/plain": [
       "    web_scraper_order          car_model month_year average_price  \\\n",
       "380    1680204632-381  Mercedes 180 2015        NaN           NaN   \n",
       "381    1680204632-382  Mercedes 180 2015        NaN           NaN   \n",
       "382    1680204632-383  Mercedes 180 2015        NaN           NaN   \n",
       "383    1680204632-384  Mercedes 180 2015        NaN           NaN   \n",
       "384    1680204632-385  Mercedes 180 2015        NaN           NaN   \n",
       "\n",
       "    minimum_price maximum_price  \n",
       "380           NaN           NaN  \n",
       "381           NaN           NaN  \n",
       "382           NaN           NaN  \n",
       "383           NaN           NaN  \n",
       "384           NaN           NaN  "
      ]
     },
     "execution_count": 875,
     "metadata": {},
     "output_type": "execute_result"
    }
   ],
   "source": [
    "# print out the rows with null values\n",
    "df_null_row = used_cars[used_cars.isna().any(axis=1)]\n",
    "df_null_row.head() "
   ]
  },
  {
   "cell_type": "code",
   "execution_count": 876,
   "metadata": {},
   "outputs": [],
   "source": [
    "# Drop Nulls Because The Full Row Is Null\n",
    "used_cars.dropna(inplace=True)"
   ]
  },
  {
   "attachments": {},
   "cell_type": "markdown",
   "metadata": {},
   "source": [
    "String, text"
   ]
  },
  {
   "cell_type": "code",
   "execution_count": 877,
   "metadata": {},
   "outputs": [],
   "source": [
    "# list_col to store the columns that need to be converted to int\n",
    "# list_col =['average_price','minimum_price','maximum_price']\n",
    "# for i in list_col:\n",
    "#     used_cars[i] = used_cars[i].str.strip('EGP')\n",
    "#     used_cars[i] = used_cars[i].str.replace(',', '')\n",
    "#     used_cars[i] = used_cars[i].str.strip(' ')\n",
    "#     used_cars[i] = used_cars[i].astype('int')"
   ]
  },
  {
   "cell_type": "code",
   "execution_count": 878,
   "metadata": {},
   "outputs": [],
   "source": [
    "# ',' change '.' func\n",
    "def ChangeCharacter(columns_name):\n",
    "    counter = 0\n",
    "    for i in used_cars[columns_name]:\n",
    "        if type(i) != float:\n",
    "            used_cars[columns_name][counter] = i.replace(',','')\n",
    "            counter = counter + 1\n",
    "        else:\n",
    "            counter = counter + 1"
   ]
  },
  {
   "cell_type": "code",
   "execution_count": 880,
   "metadata": {},
   "outputs": [],
   "source": [
    "list_cols =['average_price','minimum_price','maximum_price']\n",
    "for i in list_cols:\n",
    "    ChangeCharacter(i)"
   ]
  },
  {
   "cell_type": "code",
   "execution_count": 881,
   "metadata": {},
   "outputs": [],
   "source": [
    "def DeleteCharacter(columns_name):\n",
    "    counter = 0\n",
    "    for i in used_cars[columns_name]:\n",
    "        used_cars[columns_name][counter] = i[:-4]\n",
    "        counter = counter + 1   "
   ]
  },
  {
   "cell_type": "code",
   "execution_count": 882,
   "metadata": {},
   "outputs": [],
   "source": [
    "for i in list_cols:\n",
    "    DeleteCharacter(i)"
   ]
  },
  {
   "cell_type": "code",
   "execution_count": 883,
   "metadata": {},
   "outputs": [
    {
     "data": {
      "text/plain": [
       "web_scraper_order    object\n",
       "car_model            object\n",
       "month_year           object\n",
       "average_price        object\n",
       "minimum_price        object\n",
       "maximum_price        object\n",
       "dtype: object"
      ]
     },
     "execution_count": 883,
     "metadata": {},
     "output_type": "execute_result"
    }
   ],
   "source": [
    "used_cars.dtypes"
   ]
  },
  {
   "cell_type": "code",
   "execution_count": 884,
   "metadata": {},
   "outputs": [],
   "source": [
    "import re\n",
    "\n",
    "# categorical to int this columns\n",
    "for col in list_cols:\n",
    "    used_cars[col] = used_cars[col].apply(lambda x: re.sub('[^0-9]', '', x)).astype(int)\n"
   ]
  },
  {
   "cell_type": "code",
   "execution_count": 885,
   "metadata": {},
   "outputs": [],
   "source": [
    "# categorical to int this columns\n",
    "for i in list_cols:\n",
    "    used_cars[i] = used_cars[i].astype('int')"
   ]
  },
  {
   "cell_type": "code",
   "execution_count": 886,
   "metadata": {},
   "outputs": [],
   "source": [
    "# Convert Month/Year Column to Year and Month Perioud\n",
    "used_cars['month_year'] = (pd.to_datetime(used_cars['month_year'])).dt.to_period('M')"
   ]
  },
  {
   "cell_type": "code",
   "execution_count": 887,
   "metadata": {},
   "outputs": [],
   "source": [
    "# Split Car Full Data into Brand, Model, And Year of The Model\n",
    "model = used_cars['car_model'].apply(lambda x: ''.join((x.split()[1],' ',x.split()[2])) if len(x.split()) >3 else x.split()[1])\n",
    "year = used_cars['car_model'].apply(lambda x: x.split()[-1])\n",
    "brand = used_cars['car_model'].apply(lambda x: x.split()[0])\n",
    "\n",
    "used_cars['brand'], used_cars['model'], used_cars['model_year'] = brand,model,year"
   ]
  },
  {
   "cell_type": "code",
   "execution_count": 888,
   "metadata": {},
   "outputs": [
    {
     "data": {
      "text/html": [
       "<div>\n",
       "<style scoped>\n",
       "    .dataframe tbody tr th:only-of-type {\n",
       "        vertical-align: middle;\n",
       "    }\n",
       "\n",
       "    .dataframe tbody tr th {\n",
       "        vertical-align: top;\n",
       "    }\n",
       "\n",
       "    .dataframe thead th {\n",
       "        text-align: right;\n",
       "    }\n",
       "</style>\n",
       "<table border=\"1\" class=\"dataframe\">\n",
       "  <thead>\n",
       "    <tr style=\"text-align: right;\">\n",
       "      <th></th>\n",
       "      <th>web_scraper_order</th>\n",
       "      <th>car_model</th>\n",
       "      <th>month_year</th>\n",
       "      <th>average_price</th>\n",
       "      <th>minimum_price</th>\n",
       "      <th>maximum_price</th>\n",
       "      <th>brand</th>\n",
       "      <th>model</th>\n",
       "      <th>model_year</th>\n",
       "    </tr>\n",
       "  </thead>\n",
       "  <tbody>\n",
       "    <tr>\n",
       "      <th>0</th>\n",
       "      <td>1680204632-1</td>\n",
       "      <td>Skoda Octavia A8 2022</td>\n",
       "      <td>2023-03</td>\n",
       "      <td>967000</td>\n",
       "      <td>926000</td>\n",
       "      <td>1017000</td>\n",
       "      <td>Skoda</td>\n",
       "      <td>Octavia A8</td>\n",
       "      <td>2022</td>\n",
       "    </tr>\n",
       "    <tr>\n",
       "      <th>1</th>\n",
       "      <td>1680204632-2</td>\n",
       "      <td>Skoda Octavia A8 2022</td>\n",
       "      <td>2023-02</td>\n",
       "      <td>979000</td>\n",
       "      <td>931000</td>\n",
       "      <td>1045000</td>\n",
       "      <td>Skoda</td>\n",
       "      <td>Octavia A8</td>\n",
       "      <td>2022</td>\n",
       "    </tr>\n",
       "    <tr>\n",
       "      <th>2</th>\n",
       "      <td>1680204632-3</td>\n",
       "      <td>Skoda Octavia A8 2022</td>\n",
       "      <td>2023-01</td>\n",
       "      <td>917000</td>\n",
       "      <td>893000</td>\n",
       "      <td>950000</td>\n",
       "      <td>Skoda</td>\n",
       "      <td>Octavia A8</td>\n",
       "      <td>2022</td>\n",
       "    </tr>\n",
       "    <tr>\n",
       "      <th>3</th>\n",
       "      <td>1680204632-4</td>\n",
       "      <td>Skoda Octavia A8 2022</td>\n",
       "      <td>2022-12</td>\n",
       "      <td>881000</td>\n",
       "      <td>793000</td>\n",
       "      <td>950000</td>\n",
       "      <td>Skoda</td>\n",
       "      <td>Octavia A8</td>\n",
       "      <td>2022</td>\n",
       "    </tr>\n",
       "    <tr>\n",
       "      <th>4</th>\n",
       "      <td>1680204632-5</td>\n",
       "      <td>Skoda Octavia A8 2022</td>\n",
       "      <td>2022-11</td>\n",
       "      <td>868000</td>\n",
       "      <td>789000</td>\n",
       "      <td>950000</td>\n",
       "      <td>Skoda</td>\n",
       "      <td>Octavia A8</td>\n",
       "      <td>2022</td>\n",
       "    </tr>\n",
       "  </tbody>\n",
       "</table>\n",
       "</div>"
      ],
      "text/plain": [
       "  web_scraper_order              car_model month_year  average_price  \\\n",
       "0      1680204632-1  Skoda Octavia A8 2022    2023-03         967000   \n",
       "1      1680204632-2  Skoda Octavia A8 2022    2023-02         979000   \n",
       "2      1680204632-3  Skoda Octavia A8 2022    2023-01         917000   \n",
       "3      1680204632-4  Skoda Octavia A8 2022    2022-12         881000   \n",
       "4      1680204632-5  Skoda Octavia A8 2022    2022-11         868000   \n",
       "\n",
       "   minimum_price  maximum_price  brand       model model_year  \n",
       "0         926000        1017000  Skoda  Octavia A8       2022  \n",
       "1         931000        1045000  Skoda  Octavia A8       2022  \n",
       "2         893000         950000  Skoda  Octavia A8       2022  \n",
       "3         793000         950000  Skoda  Octavia A8       2022  \n",
       "4         789000         950000  Skoda  Octavia A8       2022  "
      ]
     },
     "execution_count": 888,
     "metadata": {},
     "output_type": "execute_result"
    }
   ],
   "source": [
    "used_cars.head()"
   ]
  },
  {
   "cell_type": "code",
   "execution_count": 889,
   "metadata": {},
   "outputs": [
    {
     "data": {
      "text/plain": [
       "web_scraper_order       object\n",
       "car_model               object\n",
       "month_year           period[M]\n",
       "average_price            int32\n",
       "minimum_price            int32\n",
       "maximum_price            int32\n",
       "brand                   object\n",
       "model                   object\n",
       "model_year              object\n",
       "dtype: object"
      ]
     },
     "execution_count": 889,
     "metadata": {},
     "output_type": "execute_result"
    }
   ],
   "source": [
    "used_cars.dtypes"
   ]
  },
  {
   "attachments": {},
   "cell_type": "markdown",
   "metadata": {},
   "source": [
    "Used and new cars"
   ]
  },
  {
   "cell_type": "code",
   "execution_count": 890,
   "metadata": {},
   "outputs": [
    {
     "data": {
      "text/plain": [
       "web_scraper_order       object\n",
       "car_model               object\n",
       "month_year           period[M]\n",
       "average_price            int32\n",
       "minimum_price            int32\n",
       "maximum_price            int32\n",
       "brand                   object\n",
       "model                   object\n",
       "model_year              object\n",
       "dtype: object"
      ]
     },
     "execution_count": 890,
     "metadata": {},
     "output_type": "execute_result"
    }
   ],
   "source": [
    "used_cars.dtypes"
   ]
  },
  {
   "cell_type": "code",
   "execution_count": 891,
   "metadata": {},
   "outputs": [
    {
     "data": {
      "text/plain": [
       "82045"
      ]
     },
     "execution_count": 891,
     "metadata": {},
     "output_type": "execute_result"
    }
   ],
   "source": [
    "# total rows of 2 dataframes\n",
    "used_cars.shape[0] + new_cars.shape[0]"
   ]
  },
  {
   "cell_type": "code",
   "execution_count": 892,
   "metadata": {},
   "outputs": [
    {
     "data": {
      "text/plain": [
       "15"
      ]
     },
     "execution_count": 892,
     "metadata": {},
     "output_type": "execute_result"
    }
   ],
   "source": [
    "# total columns of 2 dataframes\n",
    "used_cars.shape[1] + new_cars.shape[1]"
   ]
  },
  {
   "cell_type": "code",
   "execution_count": 893,
   "metadata": {},
   "outputs": [],
   "source": [
    "# Take a small part of dataframe to test\n",
    "used_cars_test = used_cars.head(3)[['web_scraper_order','car_model']]\n",
    "new_cars_test = new_cars.head(3)[['web-scraper-order','Car Model']]"
   ]
  },
  {
   "cell_type": "code",
   "execution_count": 894,
   "metadata": {},
   "outputs": [
    {
     "data": {
      "text/html": [
       "<div>\n",
       "<style scoped>\n",
       "    .dataframe tbody tr th:only-of-type {\n",
       "        vertical-align: middle;\n",
       "    }\n",
       "\n",
       "    .dataframe tbody tr th {\n",
       "        vertical-align: top;\n",
       "    }\n",
       "\n",
       "    .dataframe thead th {\n",
       "        text-align: right;\n",
       "    }\n",
       "</style>\n",
       "<table border=\"1\" class=\"dataframe\">\n",
       "  <thead>\n",
       "    <tr style=\"text-align: right;\">\n",
       "      <th></th>\n",
       "      <th>web_scraper_order</th>\n",
       "      <th>car_model</th>\n",
       "    </tr>\n",
       "  </thead>\n",
       "  <tbody>\n",
       "    <tr>\n",
       "      <th>0</th>\n",
       "      <td>1680204632-1</td>\n",
       "      <td>Skoda Octavia A8 2022</td>\n",
       "    </tr>\n",
       "    <tr>\n",
       "      <th>1</th>\n",
       "      <td>1680204632-2</td>\n",
       "      <td>Skoda Octavia A8 2022</td>\n",
       "    </tr>\n",
       "    <tr>\n",
       "      <th>2</th>\n",
       "      <td>1680204632-3</td>\n",
       "      <td>Skoda Octavia A8 2022</td>\n",
       "    </tr>\n",
       "  </tbody>\n",
       "</table>\n",
       "</div>"
      ],
      "text/plain": [
       "  web_scraper_order              car_model\n",
       "0      1680204632-1  Skoda Octavia A8 2022\n",
       "1      1680204632-2  Skoda Octavia A8 2022\n",
       "2      1680204632-3  Skoda Octavia A8 2022"
      ]
     },
     "execution_count": 894,
     "metadata": {},
     "output_type": "execute_result"
    }
   ],
   "source": [
    "used_cars_test"
   ]
  },
  {
   "cell_type": "code",
   "execution_count": 895,
   "metadata": {},
   "outputs": [
    {
     "data": {
      "text/html": [
       "<div>\n",
       "<style scoped>\n",
       "    .dataframe tbody tr th:only-of-type {\n",
       "        vertical-align: middle;\n",
       "    }\n",
       "\n",
       "    .dataframe tbody tr th {\n",
       "        vertical-align: top;\n",
       "    }\n",
       "\n",
       "    .dataframe thead th {\n",
       "        text-align: right;\n",
       "    }\n",
       "</style>\n",
       "<table border=\"1\" class=\"dataframe\">\n",
       "  <thead>\n",
       "    <tr style=\"text-align: right;\">\n",
       "      <th></th>\n",
       "      <th>web-scraper-order</th>\n",
       "      <th>Car Model</th>\n",
       "    </tr>\n",
       "  </thead>\n",
       "  <tbody>\n",
       "    <tr>\n",
       "      <th>0</th>\n",
       "      <td>1680210890-1</td>\n",
       "      <td>Porsche Cayenne A/T / Coupe 2020</td>\n",
       "    </tr>\n",
       "    <tr>\n",
       "      <th>1</th>\n",
       "      <td>1680210890-2</td>\n",
       "      <td>Porsche Cayenne A/T / Coupe 2020</td>\n",
       "    </tr>\n",
       "    <tr>\n",
       "      <th>2</th>\n",
       "      <td>1680210890-3</td>\n",
       "      <td>Porsche Cayenne A/T / S 2020</td>\n",
       "    </tr>\n",
       "  </tbody>\n",
       "</table>\n",
       "</div>"
      ],
      "text/plain": [
       "  web-scraper-order                         Car Model\n",
       "0      1680210890-1  Porsche Cayenne A/T / Coupe 2020\n",
       "1      1680210890-2  Porsche Cayenne A/T / Coupe 2020\n",
       "2      1680210890-3      Porsche Cayenne A/T / S 2020"
      ]
     },
     "execution_count": 895,
     "metadata": {},
     "output_type": "execute_result"
    }
   ],
   "source": [
    "new_cars_test"
   ]
  },
  {
   "cell_type": "code",
   "execution_count": 896,
   "metadata": {},
   "outputs": [
    {
     "data": {
      "text/html": [
       "<div>\n",
       "<style scoped>\n",
       "    .dataframe tbody tr th:only-of-type {\n",
       "        vertical-align: middle;\n",
       "    }\n",
       "\n",
       "    .dataframe tbody tr th {\n",
       "        vertical-align: top;\n",
       "    }\n",
       "\n",
       "    .dataframe thead th {\n",
       "        text-align: right;\n",
       "    }\n",
       "</style>\n",
       "<table border=\"1\" class=\"dataframe\">\n",
       "  <thead>\n",
       "    <tr style=\"text-align: right;\">\n",
       "      <th></th>\n",
       "      <th>web_scraper_order</th>\n",
       "      <th>car_model</th>\n",
       "    </tr>\n",
       "  </thead>\n",
       "  <tbody>\n",
       "    <tr>\n",
       "      <th>0</th>\n",
       "      <td>1680204632-1</td>\n",
       "      <td>Skoda Octavia A8 2022</td>\n",
       "    </tr>\n",
       "    <tr>\n",
       "      <th>1</th>\n",
       "      <td>1680204632-2</td>\n",
       "      <td>Skoda Octavia A8 2022</td>\n",
       "    </tr>\n",
       "    <tr>\n",
       "      <th>2</th>\n",
       "      <td>1680204632-3</td>\n",
       "      <td>Skoda Octavia A8 2022</td>\n",
       "    </tr>\n",
       "    <tr>\n",
       "      <th>3</th>\n",
       "      <td>1680210890-1</td>\n",
       "      <td>Porsche Cayenne A/T / Coupe 2020</td>\n",
       "    </tr>\n",
       "    <tr>\n",
       "      <th>4</th>\n",
       "      <td>1680210890-2</td>\n",
       "      <td>Porsche Cayenne A/T / Coupe 2020</td>\n",
       "    </tr>\n",
       "    <tr>\n",
       "      <th>5</th>\n",
       "      <td>1680210890-3</td>\n",
       "      <td>Porsche Cayenne A/T / S 2020</td>\n",
       "    </tr>\n",
       "  </tbody>\n",
       "</table>\n",
       "</div>"
      ],
      "text/plain": [
       "  web_scraper_order                         car_model\n",
       "0      1680204632-1             Skoda Octavia A8 2022\n",
       "1      1680204632-2             Skoda Octavia A8 2022\n",
       "2      1680204632-3             Skoda Octavia A8 2022\n",
       "3      1680210890-1  Porsche Cayenne A/T / Coupe 2020\n",
       "4      1680210890-2  Porsche Cayenne A/T / Coupe 2020\n",
       "5      1680210890-3      Porsche Cayenne A/T / S 2020"
      ]
     },
     "execution_count": 896,
     "metadata": {},
     "output_type": "execute_result"
    }
   ],
   "source": [
    "# concat 2 dataframes with the same number of columns and same names\n",
    "concatenated_dataframes = pd.concat([used_cars_test,new_cars_test.rename(columns= {'web-scraper-order':'web_scraper_order',\n",
    "                                             'Car Model':'car_model'})], ignore_index=True)\n",
    "concatenated_dataframes"
   ]
  },
  {
   "cell_type": "code",
   "execution_count": 897,
   "metadata": {},
   "outputs": [
    {
     "name": "stdout",
     "output_type": "stream",
     "text": [
      "  web_scraper_order              car_model  color\n",
      "0      1680204632-1  Skoda Octavia A8 2022    red\n",
      "1      1680204632-2  Skoda Octavia A8 2022   blue\n",
      "2      1680204632-3  Skoda Octavia A8 2022  green\n",
      "  web-scraper-order                         Car Model color\n",
      "0      1680210890-1  Porsche Cayenne A/T / Coupe 2020  blue\n",
      "1      1680210890-2  Porsche Cayenne A/T / Coupe 2020   red\n",
      "2      1680210890-3      Porsche Cayenne A/T / S 2020   red\n"
     ]
    },
    {
     "data": {
      "text/html": [
       "<div>\n",
       "<style scoped>\n",
       "    .dataframe tbody tr th:only-of-type {\n",
       "        vertical-align: middle;\n",
       "    }\n",
       "\n",
       "    .dataframe tbody tr th {\n",
       "        vertical-align: top;\n",
       "    }\n",
       "\n",
       "    .dataframe thead th {\n",
       "        text-align: right;\n",
       "    }\n",
       "</style>\n",
       "<table border=\"1\" class=\"dataframe\">\n",
       "  <thead>\n",
       "    <tr style=\"text-align: right;\">\n",
       "      <th></th>\n",
       "      <th>web_scraper_order</th>\n",
       "      <th>car_model</th>\n",
       "      <th>color</th>\n",
       "      <th>web-scraper-order</th>\n",
       "      <th>Car Model</th>\n",
       "    </tr>\n",
       "  </thead>\n",
       "  <tbody>\n",
       "    <tr>\n",
       "      <th>0</th>\n",
       "      <td>1680204632-1</td>\n",
       "      <td>Skoda Octavia A8 2022</td>\n",
       "      <td>red</td>\n",
       "      <td>1680210890-2</td>\n",
       "      <td>Porsche Cayenne A/T / Coupe 2020</td>\n",
       "    </tr>\n",
       "    <tr>\n",
       "      <th>1</th>\n",
       "      <td>1680204632-1</td>\n",
       "      <td>Skoda Octavia A8 2022</td>\n",
       "      <td>red</td>\n",
       "      <td>1680210890-3</td>\n",
       "      <td>Porsche Cayenne A/T / S 2020</td>\n",
       "    </tr>\n",
       "    <tr>\n",
       "      <th>2</th>\n",
       "      <td>1680204632-2</td>\n",
       "      <td>Skoda Octavia A8 2022</td>\n",
       "      <td>blue</td>\n",
       "      <td>1680210890-1</td>\n",
       "      <td>Porsche Cayenne A/T / Coupe 2020</td>\n",
       "    </tr>\n",
       "  </tbody>\n",
       "</table>\n",
       "</div>"
      ],
      "text/plain": [
       "  web_scraper_order              car_model color web-scraper-order  \\\n",
       "0      1680204632-1  Skoda Octavia A8 2022   red      1680210890-2   \n",
       "1      1680204632-1  Skoda Octavia A8 2022   red      1680210890-3   \n",
       "2      1680204632-2  Skoda Octavia A8 2022  blue      1680210890-1   \n",
       "\n",
       "                          Car Model  \n",
       "0  Porsche Cayenne A/T / Coupe 2020  \n",
       "1      Porsche Cayenne A/T / S 2020  \n",
       "2  Porsche Cayenne A/T / Coupe 2020  "
      ]
     },
     "execution_count": 897,
     "metadata": {},
     "output_type": "execute_result"
    }
   ],
   "source": [
    "# merge data using a column\n",
    "# add a random columns for testing\n",
    "used_cars_test['color'] = ['red', 'blue', 'green']\n",
    "new_cars_test['color'] = ['blue', 'red', 'red']\n",
    "print(used_cars_test)\n",
    "\n",
    "\n",
    "print(new_cars_test)\n",
    "used_cars_test.merge(new_cars_test, how='inner', on='color')"
   ]
  },
  {
   "cell_type": "code",
   "execution_count": 898,
   "metadata": {},
   "outputs": [
    {
     "data": {
      "text/html": [
       "<div>\n",
       "<style scoped>\n",
       "    .dataframe tbody tr th:only-of-type {\n",
       "        vertical-align: middle;\n",
       "    }\n",
       "\n",
       "    .dataframe tbody tr th {\n",
       "        vertical-align: top;\n",
       "    }\n",
       "\n",
       "    .dataframe thead th {\n",
       "        text-align: right;\n",
       "    }\n",
       "</style>\n",
       "<table border=\"1\" class=\"dataframe\">\n",
       "  <thead>\n",
       "    <tr style=\"text-align: right;\">\n",
       "      <th></th>\n",
       "      <th>web_scraper_order</th>\n",
       "      <th>car_model</th>\n",
       "      <th>color</th>\n",
       "      <th>web-scraper-order</th>\n",
       "      <th>Car Model</th>\n",
       "    </tr>\n",
       "  </thead>\n",
       "  <tbody>\n",
       "    <tr>\n",
       "      <th>0</th>\n",
       "      <td>1680204632-1</td>\n",
       "      <td>Skoda Octavia A8 2022</td>\n",
       "      <td>red</td>\n",
       "      <td>1680210890-2</td>\n",
       "      <td>Porsche Cayenne A/T / Coupe 2020</td>\n",
       "    </tr>\n",
       "    <tr>\n",
       "      <th>1</th>\n",
       "      <td>1680204632-1</td>\n",
       "      <td>Skoda Octavia A8 2022</td>\n",
       "      <td>red</td>\n",
       "      <td>1680210890-3</td>\n",
       "      <td>Porsche Cayenne A/T / S 2020</td>\n",
       "    </tr>\n",
       "    <tr>\n",
       "      <th>2</th>\n",
       "      <td>1680204632-2</td>\n",
       "      <td>Skoda Octavia A8 2022</td>\n",
       "      <td>blue</td>\n",
       "      <td>1680210890-1</td>\n",
       "      <td>Porsche Cayenne A/T / Coupe 2020</td>\n",
       "    </tr>\n",
       "    <tr>\n",
       "      <th>3</th>\n",
       "      <td>1680204632-3</td>\n",
       "      <td>Skoda Octavia A8 2022</td>\n",
       "      <td>green</td>\n",
       "      <td>NaN</td>\n",
       "      <td>NaN</td>\n",
       "    </tr>\n",
       "  </tbody>\n",
       "</table>\n",
       "</div>"
      ],
      "text/plain": [
       "  web_scraper_order              car_model  color web-scraper-order  \\\n",
       "0      1680204632-1  Skoda Octavia A8 2022    red      1680210890-2   \n",
       "1      1680204632-1  Skoda Octavia A8 2022    red      1680210890-3   \n",
       "2      1680204632-2  Skoda Octavia A8 2022   blue      1680210890-1   \n",
       "3      1680204632-3  Skoda Octavia A8 2022  green               NaN   \n",
       "\n",
       "                          Car Model  \n",
       "0  Porsche Cayenne A/T / Coupe 2020  \n",
       "1      Porsche Cayenne A/T / S 2020  \n",
       "2  Porsche Cayenne A/T / Coupe 2020  \n",
       "3                               NaN  "
      ]
     },
     "execution_count": 898,
     "metadata": {},
     "output_type": "execute_result"
    }
   ],
   "source": [
    "used_cars_test.merge(new_cars_test, how='outer', on='color')"
   ]
  },
  {
   "cell_type": "code",
   "execution_count": 899,
   "metadata": {},
   "outputs": [
    {
     "data": {
      "text/html": [
       "<div>\n",
       "<style scoped>\n",
       "    .dataframe tbody tr th:only-of-type {\n",
       "        vertical-align: middle;\n",
       "    }\n",
       "\n",
       "    .dataframe tbody tr th {\n",
       "        vertical-align: top;\n",
       "    }\n",
       "\n",
       "    .dataframe thead th {\n",
       "        text-align: right;\n",
       "    }\n",
       "</style>\n",
       "<table border=\"1\" class=\"dataframe\">\n",
       "  <thead>\n",
       "    <tr style=\"text-align: right;\">\n",
       "      <th></th>\n",
       "      <th>web_scraper_order</th>\n",
       "      <th>car_model</th>\n",
       "      <th>month_year</th>\n",
       "      <th>average_price</th>\n",
       "      <th>minimum_price</th>\n",
       "      <th>maximum_price</th>\n",
       "      <th>brand</th>\n",
       "      <th>model</th>\n",
       "      <th>model_year</th>\n",
       "    </tr>\n",
       "  </thead>\n",
       "  <tbody>\n",
       "    <tr>\n",
       "      <th>0</th>\n",
       "      <td>1680204632-1</td>\n",
       "      <td>Skoda Octavia A8 2022</td>\n",
       "      <td>2023-03</td>\n",
       "      <td>967000</td>\n",
       "      <td>926000</td>\n",
       "      <td>1017000</td>\n",
       "      <td>Skoda</td>\n",
       "      <td>Octavia A8</td>\n",
       "      <td>2022</td>\n",
       "    </tr>\n",
       "    <tr>\n",
       "      <th>1</th>\n",
       "      <td>1680204632-2</td>\n",
       "      <td>Skoda Octavia A8 2022</td>\n",
       "      <td>2023-02</td>\n",
       "      <td>979000</td>\n",
       "      <td>931000</td>\n",
       "      <td>1045000</td>\n",
       "      <td>Skoda</td>\n",
       "      <td>Octavia A8</td>\n",
       "      <td>2022</td>\n",
       "    </tr>\n",
       "    <tr>\n",
       "      <th>2</th>\n",
       "      <td>1680204632-3</td>\n",
       "      <td>Skoda Octavia A8 2022</td>\n",
       "      <td>2023-01</td>\n",
       "      <td>917000</td>\n",
       "      <td>893000</td>\n",
       "      <td>950000</td>\n",
       "      <td>Skoda</td>\n",
       "      <td>Octavia A8</td>\n",
       "      <td>2022</td>\n",
       "    </tr>\n",
       "    <tr>\n",
       "      <th>3</th>\n",
       "      <td>1680204632-4</td>\n",
       "      <td>Skoda Octavia A8 2022</td>\n",
       "      <td>2022-12</td>\n",
       "      <td>881000</td>\n",
       "      <td>793000</td>\n",
       "      <td>950000</td>\n",
       "      <td>Skoda</td>\n",
       "      <td>Octavia A8</td>\n",
       "      <td>2022</td>\n",
       "    </tr>\n",
       "    <tr>\n",
       "      <th>4</th>\n",
       "      <td>1680204632-5</td>\n",
       "      <td>Skoda Octavia A8 2022</td>\n",
       "      <td>2022-11</td>\n",
       "      <td>868000</td>\n",
       "      <td>789000</td>\n",
       "      <td>950000</td>\n",
       "      <td>Skoda</td>\n",
       "      <td>Octavia A8</td>\n",
       "      <td>2022</td>\n",
       "    </tr>\n",
       "  </tbody>\n",
       "</table>\n",
       "</div>"
      ],
      "text/plain": [
       "  web_scraper_order              car_model month_year  average_price  \\\n",
       "0      1680204632-1  Skoda Octavia A8 2022    2023-03         967000   \n",
       "1      1680204632-2  Skoda Octavia A8 2022    2023-02         979000   \n",
       "2      1680204632-3  Skoda Octavia A8 2022    2023-01         917000   \n",
       "3      1680204632-4  Skoda Octavia A8 2022    2022-12         881000   \n",
       "4      1680204632-5  Skoda Octavia A8 2022    2022-11         868000   \n",
       "\n",
       "   minimum_price  maximum_price  brand       model model_year  \n",
       "0         926000        1017000  Skoda  Octavia A8       2022  \n",
       "1         931000        1045000  Skoda  Octavia A8       2022  \n",
       "2         893000         950000  Skoda  Octavia A8       2022  \n",
       "3         793000         950000  Skoda  Octavia A8       2022  \n",
       "4         789000         950000  Skoda  Octavia A8       2022  "
      ]
     },
     "execution_count": 899,
     "metadata": {},
     "output_type": "execute_result"
    }
   ],
   "source": [
    "used_cars.head()"
   ]
  },
  {
   "cell_type": "code",
   "execution_count": 900,
   "metadata": {},
   "outputs": [
    {
     "data": {
      "text/html": [
       "<div>\n",
       "<style scoped>\n",
       "    .dataframe tbody tr th:only-of-type {\n",
       "        vertical-align: middle;\n",
       "    }\n",
       "\n",
       "    .dataframe tbody tr th {\n",
       "        vertical-align: top;\n",
       "    }\n",
       "\n",
       "    .dataframe thead th {\n",
       "        text-align: right;\n",
       "    }\n",
       "</style>\n",
       "<table border=\"1\" class=\"dataframe\">\n",
       "  <thead>\n",
       "    <tr style=\"text-align: right;\">\n",
       "      <th></th>\n",
       "      <th>average_price</th>\n",
       "      <th>minimum_price</th>\n",
       "      <th>maximum_price</th>\n",
       "    </tr>\n",
       "  </thead>\n",
       "  <tbody>\n",
       "    <tr>\n",
       "      <th>count</th>\n",
       "      <td>7.861200e+04</td>\n",
       "      <td>7.861200e+04</td>\n",
       "      <td>7.861200e+04</td>\n",
       "    </tr>\n",
       "    <tr>\n",
       "      <th>mean</th>\n",
       "      <td>1.754341e+05</td>\n",
       "      <td>1.654967e+05</td>\n",
       "      <td>1.861478e+05</td>\n",
       "    </tr>\n",
       "    <tr>\n",
       "      <th>std</th>\n",
       "      <td>1.850046e+05</td>\n",
       "      <td>1.757629e+05</td>\n",
       "      <td>1.954881e+05</td>\n",
       "    </tr>\n",
       "    <tr>\n",
       "      <th>min</th>\n",
       "      <td>1.600000e+04</td>\n",
       "      <td>4.000000e+03</td>\n",
       "      <td>1.800000e+04</td>\n",
       "    </tr>\n",
       "    <tr>\n",
       "      <th>25%</th>\n",
       "      <td>7.200000e+04</td>\n",
       "      <td>6.700000e+04</td>\n",
       "      <td>7.600000e+04</td>\n",
       "    </tr>\n",
       "    <tr>\n",
       "      <th>50%</th>\n",
       "      <td>1.230000e+05</td>\n",
       "      <td>1.140000e+05</td>\n",
       "      <td>1.290000e+05</td>\n",
       "    </tr>\n",
       "    <tr>\n",
       "      <th>75%</th>\n",
       "      <td>2.090000e+05</td>\n",
       "      <td>2.000000e+05</td>\n",
       "      <td>2.230000e+05</td>\n",
       "    </tr>\n",
       "    <tr>\n",
       "      <th>max</th>\n",
       "      <td>3.618000e+06</td>\n",
       "      <td>3.468000e+06</td>\n",
       "      <td>3.800000e+06</td>\n",
       "    </tr>\n",
       "  </tbody>\n",
       "</table>\n",
       "</div>"
      ],
      "text/plain": [
       "       average_price  minimum_price  maximum_price\n",
       "count   7.861200e+04   7.861200e+04   7.861200e+04\n",
       "mean    1.754341e+05   1.654967e+05   1.861478e+05\n",
       "std     1.850046e+05   1.757629e+05   1.954881e+05\n",
       "min     1.600000e+04   4.000000e+03   1.800000e+04\n",
       "25%     7.200000e+04   6.700000e+04   7.600000e+04\n",
       "50%     1.230000e+05   1.140000e+05   1.290000e+05\n",
       "75%     2.090000e+05   2.000000e+05   2.230000e+05\n",
       "max     3.618000e+06   3.468000e+06   3.800000e+06"
      ]
     },
     "execution_count": 900,
     "metadata": {},
     "output_type": "execute_result"
    }
   ],
   "source": [
    "# Calculate summary statistics for used cars dataset\n",
    "used_cars_stats = used_cars[['average_price', 'minimum_price', 'maximum_price']].describe()\n",
    "used_cars_stats"
   ]
  },
  {
   "cell_type": "code",
   "execution_count": 901,
   "metadata": {},
   "outputs": [
    {
     "name": "stdout",
     "output_type": "stream",
     "text": [
      "  web_scraper_order              car_model month_year  average_price  \\\n",
      "0      1680204632-1  Skoda Octavia A8 2022    2023-03         967000   \n",
      "1      1680204632-2  Skoda Octavia A8 2022    2023-02         979000   \n",
      "2      1680204632-3  Skoda Octavia A8 2022    2023-01         917000   \n",
      "3      1680204632-4  Skoda Octavia A8 2022    2022-12         881000   \n",
      "4      1680204632-5  Skoda Octavia A8 2022    2022-11         868000   \n",
      "\n",
      "   minimum_price  maximum_price  brand       model model_year  \n",
      "0         926000        1017000  Skoda  Octavia A8       2022  \n",
      "1         931000        1045000  Skoda  Octavia A8       2022  \n",
      "2         893000         950000  Skoda  Octavia A8       2022  \n",
      "3         793000         950000  Skoda  Octavia A8       2022  \n",
      "4         789000         950000  Skoda  Octavia A8       2022  \n"
     ]
    }
   ],
   "source": [
    "print(used_cars.head()) # View the first few rows of the dataset"
   ]
  },
  {
   "cell_type": "code",
   "execution_count": 902,
   "metadata": {},
   "outputs": [
    {
     "name": "stdout",
     "output_type": "stream",
     "text": [
      "       average_price  minimum_price  maximum_price\n",
      "count   7.861200e+04   7.861200e+04   7.861200e+04\n",
      "mean    1.754341e+05   1.654967e+05   1.861478e+05\n",
      "std     1.850046e+05   1.757629e+05   1.954881e+05\n",
      "min     1.600000e+04   4.000000e+03   1.800000e+04\n",
      "25%     7.200000e+04   6.700000e+04   7.600000e+04\n",
      "50%     1.230000e+05   1.140000e+05   1.290000e+05\n",
      "75%     2.090000e+05   2.000000e+05   2.230000e+05\n",
      "max     3.618000e+06   3.468000e+06   3.800000e+06\n"
     ]
    }
   ],
   "source": [
    "print(used_cars.describe()) # Get statistical summary of the dataset"
   ]
  },
  {
   "cell_type": "code",
   "execution_count": 903,
   "metadata": {},
   "outputs": [
    {
     "name": "stdout",
     "output_type": "stream",
     "text": [
      "<class 'pandas.core.frame.DataFrame'>\n",
      "Int64Index: 78612 entries, 0 to 79089\n",
      "Data columns (total 9 columns):\n",
      " #   Column             Non-Null Count  Dtype    \n",
      "---  ------             --------------  -----    \n",
      " 0   web_scraper_order  78612 non-null  object   \n",
      " 1   car_model          78612 non-null  object   \n",
      " 2   month_year         78612 non-null  period[M]\n",
      " 3   average_price      78612 non-null  int32    \n",
      " 4   minimum_price      78612 non-null  int32    \n",
      " 5   maximum_price      78612 non-null  int32    \n",
      " 6   brand              78612 non-null  object   \n",
      " 7   model              78612 non-null  object   \n",
      " 8   model_year         78612 non-null  object   \n",
      "dtypes: int32(3), object(5), period[M](1)\n",
      "memory usage: 7.1+ MB\n",
      "None\n"
     ]
    }
   ],
   "source": [
    "print(used_cars.info()) # Get information about the dataset"
   ]
  },
  {
   "cell_type": "code",
   "execution_count": 904,
   "metadata": {},
   "outputs": [
    {
     "name": "stdout",
     "output_type": "stream",
     "text": [
      "web_scraper_order    0\n",
      "car_model            0\n",
      "month_year           0\n",
      "average_price        0\n",
      "minimum_price        0\n",
      "maximum_price        0\n",
      "brand                0\n",
      "model                0\n",
      "model_year           0\n",
      "dtype: int64\n"
     ]
    }
   ],
   "source": [
    "print(used_cars.isnull().sum()) # Check for missing data in each column"
   ]
  },
  {
   "cell_type": "code",
   "execution_count": 905,
   "metadata": {},
   "outputs": [
    {
     "data": {
      "text/plain": [
       "array(['Skoda Octavia A8 2022', 'Seat Ateca 2021',\n",
       "       'Jeep Grand Cherokee 2015', ..., 'Lada 2107 1993',\n",
       "       'Lada 2105 1992', 'Lada 2107 1991'], dtype=object)"
      ]
     },
     "execution_count": 905,
     "metadata": {},
     "output_type": "execute_result"
    }
   ],
   "source": [
    "# Print all car models in the dataset\n",
    "used_cars['car_model'].unique()"
   ]
  },
  {
   "cell_type": "code",
   "execution_count": 906,
   "metadata": {},
   "outputs": [
    {
     "name": "stdout",
     "output_type": "stream",
     "text": [
      "      web_scraper_order     car_model month_year  average_price  \\\n",
      "41837  1680204632-41838  Audi Q3 2022    2023-03         870000   \n",
      "41838  1680204632-41839  Audi Q3 2022    2023-02         906000   \n",
      "42266  1680204632-42267  Audi Q3 2021    2023-03         670000   \n",
      "42267  1680204632-42268  Audi Q3 2021    2023-02         668000   \n",
      "42268  1680204632-42269  Audi Q3 2021    2023-01         681000   \n",
      "42269  1680204632-42270  Audi Q3 2021    2022-12         714000   \n",
      "42270  1680204632-42271  Audi Q3 2021    2022-02         680000   \n",
      "42438  1680204632-42439  Audi A3 2022    2023-03         906000   \n",
      "42439  1680204632-42440  Audi A3 2022    2023-02         870000   \n",
      "48341  1680204632-48342  Audi A4 1998    2023-03         107000   \n",
      "48342  1680204632-48343  Audi A4 1998    2023-02         105000   \n",
      "48343  1680204632-48344  Audi A4 1998    2022-11         110000   \n",
      "\n",
      "       minimum_price  maximum_price brand model model_year  \n",
      "41837         841000         893000  Audi    Q3       2022  \n",
      "41838         893000         922000  Audi    Q3       2022  \n",
      "42266         618000         703000  Audi    Q3       2021  \n",
      "42267         618000         703000  Audi    Q3       2021  \n",
      "42268         618000         741000  Audi    Q3       2021  \n",
      "42269         646000         760000  Audi    Q3       2021  \n",
      "42270         641000         736000  Audi    Q3       2021  \n",
      "42438         808000         950000  Audi    A3       2022  \n",
      "42439         836000         903000  Audi    A3       2022  \n",
      "48341         105000         112000  Audi    A4       1998  \n",
      "48342         100000         109000  Audi    A4       1998  \n",
      "48343         105000         114000  Audi    A4       1998  \n"
     ]
    }
   ],
   "source": [
    "# Get only the car models with the name \"Audi\" using regex\n",
    "audi_cars = used_cars[used_cars['car_model'].str.contains('Audi')]\n",
    "print(audi_cars)"
   ]
  },
  {
   "cell_type": "code",
   "execution_count": 907,
   "metadata": {},
   "outputs": [
    {
     "name": "stdout",
     "output_type": "stream",
     "text": [
      "      web_scraper_order              car_model month_year  average_price  \\\n",
      "0          1680204632-1  Skoda Octavia A8 2022    2023-03         967000   \n",
      "1          1680204632-2  Skoda Octavia A8 2022    2023-02         979000   \n",
      "2          1680204632-3  Skoda Octavia A8 2022    2023-01         917000   \n",
      "3          1680204632-4  Skoda Octavia A8 2022    2022-12         881000   \n",
      "4          1680204632-5  Skoda Octavia A8 2022    2022-11         868000   \n",
      "...                 ...                    ...        ...            ...   \n",
      "78184  1680204632-78185     Skoda Favorit 1994    2012-12          20000   \n",
      "78185  1680204632-78186     Skoda Favorit 1994    2012-11          21000   \n",
      "78186  1680204632-78187     Skoda Favorit 1994    2012-10          20000   \n",
      "78187  1680204632-78188     Skoda Favorit 1994    2012-09          20000   \n",
      "78188  1680204632-78189     Skoda Favorit 1994    2012-08          22000   \n",
      "\n",
      "       minimum_price  maximum_price  brand       model model_year  \n",
      "0             926000        1017000  Skoda  Octavia A8       2022  \n",
      "1             931000        1045000  Skoda  Octavia A8       2022  \n",
      "2             893000         950000  Skoda  Octavia A8       2022  \n",
      "3             793000         950000  Skoda  Octavia A8       2022  \n",
      "4             789000         950000  Skoda  Octavia A8       2022  \n",
      "...              ...            ...    ...         ...        ...  \n",
      "78184          19000          21000  Skoda     Favorit       1994  \n",
      "78185          20000          21500  Skoda     Favorit       1994  \n",
      "78186          18000          21500  Skoda     Favorit       1994  \n",
      "78187          18000          22000  Skoda     Favorit       1994  \n",
      "78188          21000          23500  Skoda     Favorit       1994  \n",
      "\n",
      "[2584 rows x 9 columns]\n"
     ]
    }
   ],
   "source": [
    "# Get only the car models with the name \"Skoda\" using regex\n",
    "skoda_cars = used_cars[used_cars['car_model'].str.contains('Skoda')]\n",
    "print(skoda_cars)"
   ]
  },
  {
   "cell_type": "code",
   "execution_count": 908,
   "metadata": {},
   "outputs": [
    {
     "name": "stdout",
     "output_type": "stream",
     "text": [
      "      web_scraper_order     car_model month_year  average_price  \\\n",
      "96        1680204632-97  BMW 318 2019    2023-03         948000   \n",
      "97        1680204632-98  BMW 318 2019    2023-02         904000   \n",
      "98        1680204632-99  BMW 318 2019    2023-01         828000   \n",
      "99       1680204632-100  BMW 318 2019    2022-12         844000   \n",
      "100      1680204632-101  BMW 318 2019    2022-11         855000   \n",
      "...                 ...           ...        ...            ...   \n",
      "57292  1680204632-57293  BMW 316 1994    2017-12          79000   \n",
      "57293  1680204632-57294  BMW 316 1994    2017-11          78000   \n",
      "57294  1680204632-57295  BMW 316 1994    2016-04          74000   \n",
      "57295  1680204632-57296  BMW 316 1994    2016-03          77000   \n",
      "57296  1680204632-57297  BMW 316 1994    2016-02          82000   \n",
      "\n",
      "       minimum_price  maximum_price brand model model_year  \n",
      "96            855000        1093000   BMW   318       2019  \n",
      "97            808000         998000   BMW   318       2019  \n",
      "98            808000         855000   BMW   318       2019  \n",
      "99            827000         855000   BMW   318       2019  \n",
      "100           822000         903000   BMW   318       2019  \n",
      "...              ...            ...   ...   ...        ...  \n",
      "57292          71000          86000   BMW   316       1994  \n",
      "57293          71000          86000   BMW   316       1994  \n",
      "57294          71000          81000   BMW   316       1994  \n",
      "57295          71000          82000   BMW   316       1994  \n",
      "57296          76000          86000   BMW   316       1994  \n",
      "\n",
      "[2857 rows x 9 columns]\n"
     ]
    }
   ],
   "source": [
    "# Get only the car models with the name \"BMW\" using regex\n",
    "bmw_cars = used_cars[used_cars['car_model'].str.contains('BMW')]\n",
    "print(bmw_cars)"
   ]
  },
  {
   "cell_type": "code",
   "execution_count": 909,
   "metadata": {},
   "outputs": [
    {
     "name": "stdout",
     "output_type": "stream",
     "text": [
      "      web_scraper_order            car_model month_year  average_price  \\\n",
      "144      1680204632-145  Mercedes E 250 2011    2023-02         941000   \n",
      "145      1680204632-146  Mercedes E 250 2011    2022-12         899000   \n",
      "146      1680204632-147  Mercedes E 250 2011    2022-10         769000   \n",
      "147      1680204632-148  Mercedes E 250 2011    2022-03         530000   \n",
      "148      1680204632-149  Mercedes E 250 2011    2022-02         527000   \n",
      "...                 ...                  ...        ...            ...   \n",
      "51147  1680204632-51148  Mercedes C 180 1994    2018-06          81000   \n",
      "52623  1680204632-52624  Mercedes A 150 2005    2022-09         115000   \n",
      "52624  1680204632-52625  Mercedes A 150 2005    2022-08         114000   \n",
      "57120  1680204632-57121  Mercedes A 160 1998    2023-01          52000   \n",
      "57121  1680204632-57122  Mercedes A 160 1998    2022-12          53000   \n",
      "\n",
      "       minimum_price  maximum_price     brand  model model_year  \n",
      "144           808000         998000  Mercedes  E 250       2011  \n",
      "145           808000        1045000  Mercedes  E 250       2011  \n",
      "146           546000         931000  Mercedes  E 250       2011  \n",
      "147           504000         589000  Mercedes  E 250       2011  \n",
      "148           504000         546000  Mercedes  E 250       2011  \n",
      "...              ...            ...       ...    ...        ...  \n",
      "51147          76000          87000  Mercedes  C 180       1994  \n",
      "52623         110000         120000  Mercedes  A 150       2005  \n",
      "52624         110000         120000  Mercedes  A 150       2005  \n",
      "57120          49500          55000  Mercedes  A 160       1998  \n",
      "57121          51000          55000  Mercedes  A 160       1998  \n",
      "\n",
      "[1980 rows x 9 columns]\n"
     ]
    }
   ],
   "source": [
    "# Get only the car models with the name \"Mercedes\" using regex\n",
    "mercedes_cars = used_cars[used_cars['car_model'].str.contains('Mercedes')]\n",
    "print(mercedes_cars)"
   ]
  },
  {
   "cell_type": "code",
   "execution_count": 910,
   "metadata": {},
   "outputs": [
    {
     "name": "stdout",
     "output_type": "stream",
     "text": [
      "      web_scraper_order             car_model month_year  average_price  \\\n",
      "1085    1680204632-1086  Toyota Fortuner 2013    2023-03         434000   \n",
      "1086    1680204632-1087  Toyota Fortuner 2013    2023-02         451000   \n",
      "1087    1680204632-1088  Toyota Fortuner 2013    2023-01         439000   \n",
      "1088    1680204632-1089  Toyota Fortuner 2013    2022-12         449000   \n",
      "1089    1680204632-1090  Toyota Fortuner 2013    2022-11         456000   \n",
      "...                 ...                   ...        ...            ...   \n",
      "71902  1680204632-71903   Toyota Starlet 1994    2022-11          49000   \n",
      "71903  1680204632-71904   Toyota Starlet 1994    2018-01          45000   \n",
      "71904  1680204632-71905   Toyota Starlet 1994    2017-12          46000   \n",
      "71905  1680204632-71906   Toyota Starlet 1994    2017-11          46000   \n",
      "71906  1680204632-71907   Toyota Starlet 1994    2015-09          48000   \n",
      "\n",
      "       minimum_price  maximum_price   brand     model model_year  \n",
      "1085          399000         442000  Toyota  Fortuner       2013  \n",
      "1086          390000         485000  Toyota  Fortuner       2013  \n",
      "1087          390000         423000  Toyota  Fortuner       2013  \n",
      "1088          399000         447000  Toyota  Fortuner       2013  \n",
      "1089          380000         447000  Toyota  Fortuner       2013  \n",
      "...              ...            ...     ...       ...        ...  \n",
      "71902          43000          55000  Toyota   Starlet       1994  \n",
      "71903          43000          49000  Toyota   Starlet       1994  \n",
      "71904          43000          49000  Toyota   Starlet       1994  \n",
      "71905          44000          49000  Toyota   Starlet       1994  \n",
      "71906          43000          52000  Toyota   Starlet       1994  \n",
      "\n",
      "[3444 rows x 9 columns]\n"
     ]
    }
   ],
   "source": [
    "# Get only the car models with the name \"Toyota\" using regex\n",
    "toyota_cars = used_cars[used_cars['car_model'].str.contains('Toyota')]\n",
    "print(toyota_cars)"
   ]
  },
  {
   "cell_type": "code",
   "execution_count": 911,
   "metadata": {},
   "outputs": [
    {
     "name": "stdout",
     "output_type": "stream",
     "text": [
      "Mitsubishi Lancer 1999\n"
     ]
    }
   ],
   "source": [
    "# Show the most picked car model\n",
    "print(used_cars['car_model'].value_counts().idxmax())"
   ]
  },
  {
   "cell_type": "code",
   "execution_count": 912,
   "metadata": {},
   "outputs": [
    {
     "name": "stdout",
     "output_type": "stream",
     "text": [
      "Mercedes CLA 180 2020\n"
     ]
    }
   ],
   "source": [
    "# Show the least picked car model\n",
    "print(used_cars['car_model'].value_counts().idxmin())"
   ]
  },
  {
   "cell_type": "code",
   "execution_count": 913,
   "metadata": {},
   "outputs": [
    {
     "name": "stdout",
     "output_type": "stream",
     "text": [
      "76000\n"
     ]
    }
   ],
   "source": [
    "# Show the most expensive car model\n",
    "print(used_cars['average_price'].value_counts().idxmax())"
   ]
  },
  {
   "cell_type": "code",
   "execution_count": 914,
   "metadata": {},
   "outputs": [
    {
     "name": "stdout",
     "output_type": "stream",
     "text": [
      "2268000\n"
     ]
    }
   ],
   "source": [
    "# Show the least expensive car model \n",
    "print(used_cars['average_price'].value_counts().idxmin())"
   ]
  },
  {
   "cell_type": "code",
   "execution_count": 915,
   "metadata": {},
   "outputs": [
    {
     "name": "stdout",
     "output_type": "stream",
     "text": [
      "2022-11\n"
     ]
    }
   ],
   "source": [
    "# Show the best year for buying a car\n",
    "print(used_cars['month_year'].value_counts().idxmax())"
   ]
  },
  {
   "cell_type": "code",
   "execution_count": 916,
   "metadata": {},
   "outputs": [
    {
     "name": "stdout",
     "output_type": "stream",
     "text": [
      "2012-01\n"
     ]
    }
   ],
   "source": [
    "# Show the worst year for buying a car\n",
    "print(used_cars['month_year'].value_counts().idxmin())"
   ]
  },
  {
   "attachments": {},
   "cell_type": "markdown",
   "metadata": {},
   "source": [
    "Questions you can ask during a data science project:\n",
    "* What do you see in the dataset?\n",
    "* Are there outliers?\n",
    "* Is there missing data?\n",
    "* Are there possible errors in the dataset?\n",
    "* Is there a target variable? If so, what does it look like? Is there an unbalanced dataset?\n",
    "* Are there correlations between variables?\n",
    "* Does data need to be reworked before you can run an ML model on it?"
   ]
  },
  {
   "cell_type": "code",
   "execution_count": null,
   "metadata": {},
   "outputs": [],
   "source": [
    "#Questions:\n",
    "\n",
    "\n",
    "# 1. What do you see in the dataset?\n",
    "#We can use the head() method to get a glimpse of the first few rows of the dataset:\n",
    "\n",
    "print(used_cars.head())\n",
    "# This will print the first few rows of the dataset, allowing us to see the structure and content of the data.\n",
    "\n",
    "# 2. Are there outliers?\n",
    "# We can use box plots or histograms to identify possible outliers. For example, to plot a box plot of a column in the dataset:\n",
    "\n",
    "used_cars.boxplot(x=used_cars['average_price'])\n",
    "# If there are outliers, they will be shown as individual points outside the whiskers in the plot.\n",
    "\n",
    "# 3. Is there missing data?\n",
    "# We can use the isnull() method to identify missing values in the dataset. For example:\n",
    "\n",
    "print(used_cars.isnull().sum())\n",
    "#This will print the number of missing values in each column of the dataset.\n",
    "\n",
    "# 4. Are there possible errors in the dataset?\n",
    "# This depends on the specific dataset and its domain. \n",
    "# However, we can use domain knowledge and exploratory data analysis to identify possible errors or inconsistencies in the data. \n",
    "# For example, we can use histograms or summary statistics to identify values that are outside the expected range for a given variable.\n",
    "\n",
    "# 5. Is there a target variable? If so, what does it look like? Is there an unbalanced dataset?\n",
    "# This depends on the specific dataset and its domain. \n",
    "# However, we can use domain knowledge and exploratory data analysis to identify the target variable and its distribution in the dataset.\n",
    "# For example, we can use histograms or summary statistics to identify the distribution of the target variable and check if it is balanced or not.\n",
    "\n",
    "# 6. Are there correlations between variables?\n",
    "# We can use correlation matrices or scatter plots to identify possible correlations between variables.\n",
    "# For example, to plot a correlation matrix of the dataset:\n",
    "\n",
    "corr_matrix = used_cars.corr()\n",
    "sns.heatmap(corr_matrix, annot=True)\n",
    "# This will plot a heatmap of the correlations between the variables in the dataset.\n",
    "\n",
    "# 7. Does data need to be reworked before you can run an ML model on it?\n",
    "# This depends on the specific ML model and its requirements. \n",
    "# However, we can use feature engineering techniques to transform or extract features from the data to improve the performance of the ML model. \n",
    "# For example, we can use one-hot encoding or feature scaling to prepare the data for a given ML model."
   ]
  },
  {
   "attachments": {},
   "cell_type": "markdown",
   "metadata": {},
   "source": [
    "# 3. Visualize the data"
   ]
  },
  {
   "attachments": {},
   "cell_type": "markdown",
   "metadata": {},
   "source": [
    "Histogram and pie chart"
   ]
  },
  {
   "cell_type": "code",
   "execution_count": 921,
   "metadata": {},
   "outputs": [
    {
     "data": {
      "image/png": "[encoded data removed]",
      "text/plain": [
       "<Figure size 1500x600 with 2 Axes>"
      ]
     },
     "metadata": {},
     "output_type": "display_data"
    }
   ],
   "source": [
    "fig, axs = plt.subplots(1, 2, figsize=(15, 6))\n",
    "\n",
    "used_cars['average_price'].hist(bins=10,ax=axs[0])\n",
    "axs[0].set_title('average_price', fontsize=16)\n",
    "axs[0].set_ylabel(\"Frequency\")\n",
    "# EGP stands for Egyptian Pound\n",
    "axs[0].set_xlabel(\"EGP\")\n",
    "\n",
    "used_cars['model_year'].value_counts().plot.pie(ax=axs[1], autopct='%.2f%%')\n",
    "axs[1].set_title('Year#', fontsize=16)\n",
    "plt.show()"
   ]
  },
  {
   "attachments": {},
   "cell_type": "markdown",
   "metadata": {},
   "source": [
    "Bar chart"
   ]
  },
  {
   "cell_type": "code",
   "execution_count": 923,
   "metadata": {},
   "outputs": [
    {
     "data": {
      "text/plain": [
       "<Axes: >"
      ]
     },
     "execution_count": 923,
     "metadata": {},
     "output_type": "execute_result"
    },
    {
     "data": {
      "image/png": "[encoded data removed]",
      "text/plain": [
       "<Figure size 640x480 with 1 Axes>"
      ]
     },
     "metadata": {},
     "output_type": "display_data"
    }
   ],
   "source": [
    "# in percentage\n",
    "used_cars['model_year'].value_counts(normalize=True).mul(100).plot.bar()"
   ]
  },
  {
   "attachments": {},
   "cell_type": "markdown",
   "metadata": {},
   "source": [
    "Boxplot"
   ]
  },
  {
   "cell_type": "code",
   "execution_count": 933,
   "metadata": {},
   "outputs": [
    {
     "data": {
      "text/plain": [
       "<Axes: >"
      ]
     },
     "execution_count": 933,
     "metadata": {},
     "output_type": "execute_result"
    },
    {
     "data": {
      "image/png": "[encoded data removed]",
      "text/plain": [
       "<Figure size 640x480 with 1 Axes>"
      ]
     },
     "metadata": {},
     "output_type": "display_data"
    }
   ],
   "source": [
    "used_cars.boxplot(column=['minimum_price', 'maximum_price'], grid=True,)"
   ]
  },
  {
   "attachments": {},
   "cell_type": "markdown",
   "metadata": {},
   "source": [
    "Relationships among variables via plots"
   ]
  },
  {
   "attachments": {},
   "cell_type": "markdown",
   "metadata": {},
   "source": [
    "Correlation Matrix"
   ]
  },
  {
   "cell_type": "code",
   "execution_count": 934,
   "metadata": {},
   "outputs": [
    {
     "name": "stderr",
     "output_type": "stream",
     "text": [
      "C:\\Users\\tomas\\AppData\\Local\\Temp\\ipykernel_10476\\1254712047.py:2: FutureWarning: The default value of numeric_only in DataFrame.corr is deprecated. In a future version, it will default to False. Select only valid columns or specify the value of numeric_only to silence this warning.\n",
      "  cm = used_cars.corr()\n"
     ]
    },
    {
     "data": {
      "text/plain": [
       "<Axes: >"
      ]
     },
     "execution_count": 934,
     "metadata": {},
     "output_type": "execute_result"
    },
    {
     "data": {
      "image/png": "[encoded data removed]",
      "text/plain": [
       "<Figure size 640x480 with 2 Axes>"
      ]
     },
     "metadata": {},
     "output_type": "display_data"
    }
   ],
   "source": [
    "# correlation matrix\n",
    "cm = used_cars.corr()\n",
    "sns.heatmap(cm, cbar=True, annot=True, square=True, fmt='.2f', annot_kws={'size': 10})"
   ]
  },
  {
   "attachments": {},
   "cell_type": "markdown",
   "metadata": {},
   "source": [
    "Scatterplot"
   ]
  },
  {
   "cell_type": "code",
   "execution_count": 935,
   "metadata": {},
   "outputs": [
    {
     "data": {
      "text/plain": [
       "<seaborn.axisgrid.PairGrid at 0x2a8582d4290>"
      ]
     },
     "execution_count": 935,
     "metadata": {},
     "output_type": "execute_result"
    },
    {
     "data": {
      "image/png": "[encoded data removed]",
      "text/plain": [
       "<Figure size 750x750 with 12 Axes>"
      ]
     },
     "metadata": {},
     "output_type": "display_data"
    }
   ],
   "source": [
    "sns.pairplot(data=used_cars)"
   ]
  },
  {
   "attachments": {},
   "cell_type": "markdown",
   "metadata": {},
   "source": [
    "Category - Category"
   ]
  },
  {
   "cell_type": "code",
   "execution_count": 936,
   "metadata": {},
   "outputs": [
    {
     "data": {
      "text/html": [
       "<div>\n",
       "<style scoped>\n",
       "    .dataframe tbody tr th:only-of-type {\n",
       "        vertical-align: middle;\n",
       "    }\n",
       "\n",
       "    .dataframe tbody tr th {\n",
       "        vertical-align: top;\n",
       "    }\n",
       "\n",
       "    .dataframe thead th {\n",
       "        text-align: right;\n",
       "    }\n",
       "</style>\n",
       "<table border=\"1\" class=\"dataframe\">\n",
       "  <thead>\n",
       "    <tr style=\"text-align: right;\">\n",
       "      <th></th>\n",
       "      <th>web_scraper_order</th>\n",
       "      <th>car_model</th>\n",
       "      <th>month_year</th>\n",
       "      <th>average_price</th>\n",
       "      <th>minimum_price</th>\n",
       "      <th>maximum_price</th>\n",
       "      <th>brand</th>\n",
       "      <th>model</th>\n",
       "      <th>model_year</th>\n",
       "    </tr>\n",
       "  </thead>\n",
       "  <tbody>\n",
       "    <tr>\n",
       "      <th>0</th>\n",
       "      <td>1680204632-1</td>\n",
       "      <td>Skoda Octavia A8 2022</td>\n",
       "      <td>2023-03</td>\n",
       "      <td>967000</td>\n",
       "      <td>926000</td>\n",
       "      <td>1017000</td>\n",
       "      <td>Skoda</td>\n",
       "      <td>Octavia A8</td>\n",
       "      <td>2022</td>\n",
       "    </tr>\n",
       "    <tr>\n",
       "      <th>1</th>\n",
       "      <td>1680204632-2</td>\n",
       "      <td>Skoda Octavia A8 2022</td>\n",
       "      <td>2023-02</td>\n",
       "      <td>979000</td>\n",
       "      <td>931000</td>\n",
       "      <td>1045000</td>\n",
       "      <td>Skoda</td>\n",
       "      <td>Octavia A8</td>\n",
       "      <td>2022</td>\n",
       "    </tr>\n",
       "    <tr>\n",
       "      <th>2</th>\n",
       "      <td>1680204632-3</td>\n",
       "      <td>Skoda Octavia A8 2022</td>\n",
       "      <td>2023-01</td>\n",
       "      <td>917000</td>\n",
       "      <td>893000</td>\n",
       "      <td>950000</td>\n",
       "      <td>Skoda</td>\n",
       "      <td>Octavia A8</td>\n",
       "      <td>2022</td>\n",
       "    </tr>\n",
       "    <tr>\n",
       "      <th>3</th>\n",
       "      <td>1680204632-4</td>\n",
       "      <td>Skoda Octavia A8 2022</td>\n",
       "      <td>2022-12</td>\n",
       "      <td>881000</td>\n",
       "      <td>793000</td>\n",
       "      <td>950000</td>\n",
       "      <td>Skoda</td>\n",
       "      <td>Octavia A8</td>\n",
       "      <td>2022</td>\n",
       "    </tr>\n",
       "    <tr>\n",
       "      <th>4</th>\n",
       "      <td>1680204632-5</td>\n",
       "      <td>Skoda Octavia A8 2022</td>\n",
       "      <td>2022-11</td>\n",
       "      <td>868000</td>\n",
       "      <td>789000</td>\n",
       "      <td>950000</td>\n",
       "      <td>Skoda</td>\n",
       "      <td>Octavia A8</td>\n",
       "      <td>2022</td>\n",
       "    </tr>\n",
       "  </tbody>\n",
       "</table>\n",
       "</div>"
      ],
      "text/plain": [
       "  web_scraper_order              car_model month_year  average_price  \\\n",
       "0      1680204632-1  Skoda Octavia A8 2022    2023-03         967000   \n",
       "1      1680204632-2  Skoda Octavia A8 2022    2023-02         979000   \n",
       "2      1680204632-3  Skoda Octavia A8 2022    2023-01         917000   \n",
       "3      1680204632-4  Skoda Octavia A8 2022    2022-12         881000   \n",
       "4      1680204632-5  Skoda Octavia A8 2022    2022-11         868000   \n",
       "\n",
       "   minimum_price  maximum_price  brand       model model_year  \n",
       "0         926000        1017000  Skoda  Octavia A8       2022  \n",
       "1         931000        1045000  Skoda  Octavia A8       2022  \n",
       "2         893000         950000  Skoda  Octavia A8       2022  \n",
       "3         793000         950000  Skoda  Octavia A8       2022  \n",
       "4         789000         950000  Skoda  Octavia A8       2022  "
      ]
     },
     "execution_count": 936,
     "metadata": {},
     "output_type": "execute_result"
    }
   ],
   "source": [
    "used_cars.head()"
   ]
  },
  {
   "cell_type": "code",
   "execution_count": 937,
   "metadata": {},
   "outputs": [
    {
     "data": {
      "image/png": "[encoded data removed]",
      "text/plain": [
       "<Figure size 640x480 with 1 Axes>"
      ]
     },
     "metadata": {},
     "output_type": "display_data"
    }
   ],
   "source": [
    "pd.crosstab(used_cars['brand'], used_cars['model_year']).plot(kind='bar', stacked=True)\n",
    "plt.title('Year vs Model', fontsize=10)\n",
    "plt.ylabel('Frequency')\n",
    "plt.show()"
   ]
  },
  {
   "attachments": {},
   "cell_type": "markdown",
   "metadata": {},
   "source": [
    "Categoric - Numeric"
   ]
  },
  {
   "cell_type": "code",
   "execution_count": 938,
   "metadata": {},
   "outputs": [
    {
     "data": {
      "text/plain": [
       "<Axes: xlabel='month_year', ylabel='minimum_price'>"
      ]
     },
     "execution_count": 938,
     "metadata": {},
     "output_type": "execute_result"
    },
    {
     "data": {
      "image/png": "[encoded data removed]",
      "text/plain": [
       "<Figure size 640x480 with 1 Axes>"
      ]
     },
     "metadata": {},
     "output_type": "display_data"
    }
   ],
   "source": [
    "sns.boxplot(x=\"month_year\", y=\"minimum_price\", data=used_cars, \n",
    "            palette=\"Accent\", #color='g'\n",
    "           )"
   ]
  },
  {
   "attachments": {},
   "cell_type": "markdown",
   "metadata": {},
   "source": [
    "Fill, slice values"
   ]
  },
  {
   "cell_type": "code",
   "execution_count": 939,
   "metadata": {},
   "outputs": [
    {
     "data": {
      "text/html": [
       "<div>\n",
       "<style scoped>\n",
       "    .dataframe tbody tr th:only-of-type {\n",
       "        vertical-align: middle;\n",
       "    }\n",
       "\n",
       "    .dataframe tbody tr th {\n",
       "        vertical-align: top;\n",
       "    }\n",
       "\n",
       "    .dataframe thead th {\n",
       "        text-align: right;\n",
       "    }\n",
       "</style>\n",
       "<table border=\"1\" class=\"dataframe\">\n",
       "  <thead>\n",
       "    <tr style=\"text-align: right;\">\n",
       "      <th></th>\n",
       "      <th>brand</th>\n",
       "      <th>model</th>\n",
       "      <th>average_price</th>\n",
       "    </tr>\n",
       "  </thead>\n",
       "  <tbody>\n",
       "    <tr>\n",
       "      <th>0</th>\n",
       "      <td>Skoda</td>\n",
       "      <td>Octavia A8</td>\n",
       "      <td>967000</td>\n",
       "    </tr>\n",
       "    <tr>\n",
       "      <th>1</th>\n",
       "      <td>Skoda</td>\n",
       "      <td>Octavia A8</td>\n",
       "      <td>979000</td>\n",
       "    </tr>\n",
       "    <tr>\n",
       "      <th>2</th>\n",
       "      <td>Skoda</td>\n",
       "      <td>Octavia A8</td>\n",
       "      <td>917000</td>\n",
       "    </tr>\n",
       "    <tr>\n",
       "      <th>3</th>\n",
       "      <td>Skoda</td>\n",
       "      <td>Octavia A8</td>\n",
       "      <td>881000</td>\n",
       "    </tr>\n",
       "    <tr>\n",
       "      <th>4</th>\n",
       "      <td>Skoda</td>\n",
       "      <td>Octavia A8</td>\n",
       "      <td>868000</td>\n",
       "    </tr>\n",
       "  </tbody>\n",
       "</table>\n",
       "</div>"
      ],
      "text/plain": [
       "   brand       model  average_price\n",
       "0  Skoda  Octavia A8         967000\n",
       "1  Skoda  Octavia A8         979000\n",
       "2  Skoda  Octavia A8         917000\n",
       "3  Skoda  Octavia A8         881000\n",
       "4  Skoda  Octavia A8         868000"
      ]
     },
     "execution_count": 939,
     "metadata": {},
     "output_type": "execute_result"
    }
   ],
   "source": [
    "used_cars[['brand', 'model','average_price']].head()"
   ]
  },
  {
   "cell_type": "code",
   "execution_count": 940,
   "metadata": {},
   "outputs": [
    {
     "data": {
      "text/html": [
       "<div>\n",
       "<style scoped>\n",
       "    .dataframe tbody tr th:only-of-type {\n",
       "        vertical-align: middle;\n",
       "    }\n",
       "\n",
       "    .dataframe tbody tr th {\n",
       "        vertical-align: top;\n",
       "    }\n",
       "\n",
       "    .dataframe thead th {\n",
       "        text-align: right;\n",
       "    }\n",
       "</style>\n",
       "<table border=\"1\" class=\"dataframe\">\n",
       "  <thead>\n",
       "    <tr style=\"text-align: right;\">\n",
       "      <th></th>\n",
       "      <th>web_scraper_order</th>\n",
       "      <th>car_model</th>\n",
       "      <th>month_year</th>\n",
       "      <th>average_price</th>\n",
       "      <th>minimum_price</th>\n",
       "      <th>maximum_price</th>\n",
       "      <th>brand</th>\n",
       "      <th>model</th>\n",
       "      <th>model_year</th>\n",
       "    </tr>\n",
       "  </thead>\n",
       "  <tbody>\n",
       "    <tr>\n",
       "      <th>6</th>\n",
       "      <td>1680204632-7</td>\n",
       "      <td>Skoda Octavia A8 2022</td>\n",
       "      <td>2022-09</td>\n",
       "      <td>837000</td>\n",
       "      <td>770000</td>\n",
       "      <td>874000</td>\n",
       "      <td>Skoda</td>\n",
       "      <td>Octavia A8</td>\n",
       "      <td>2022</td>\n",
       "    </tr>\n",
       "    <tr>\n",
       "      <th>7</th>\n",
       "      <td>1680204632-8</td>\n",
       "      <td>Skoda Octavia A8 2022</td>\n",
       "      <td>2022-08</td>\n",
       "      <td>779000</td>\n",
       "      <td>722000</td>\n",
       "      <td>855000</td>\n",
       "      <td>Skoda</td>\n",
       "      <td>Octavia A8</td>\n",
       "      <td>2022</td>\n",
       "    </tr>\n",
       "    <tr>\n",
       "      <th>8</th>\n",
       "      <td>1680204632-9</td>\n",
       "      <td>Skoda Octavia A8 2022</td>\n",
       "      <td>2022-07</td>\n",
       "      <td>675000</td>\n",
       "      <td>608000</td>\n",
       "      <td>722000</td>\n",
       "      <td>Skoda</td>\n",
       "      <td>Octavia A8</td>\n",
       "      <td>2022</td>\n",
       "    </tr>\n",
       "  </tbody>\n",
       "</table>\n",
       "</div>"
      ],
      "text/plain": [
       "  web_scraper_order              car_model month_year  average_price  \\\n",
       "6      1680204632-7  Skoda Octavia A8 2022    2022-09         837000   \n",
       "7      1680204632-8  Skoda Octavia A8 2022    2022-08         779000   \n",
       "8      1680204632-9  Skoda Octavia A8 2022    2022-07         675000   \n",
       "\n",
       "   minimum_price  maximum_price  brand       model model_year  \n",
       "6         770000         874000  Skoda  Octavia A8       2022  \n",
       "7         722000         855000  Skoda  Octavia A8       2022  \n",
       "8         608000         722000  Skoda  Octavia A8       2022  "
      ]
     },
     "execution_count": 940,
     "metadata": {},
     "output_type": "execute_result"
    }
   ],
   "source": [
    "used_cars.loc[6:8]"
   ]
  },
  {
   "attachments": {},
   "cell_type": "markdown",
   "metadata": {},
   "source": [
    "Convert df, list, set, zip and mapping"
   ]
  },
  {
   "cell_type": "code",
   "execution_count": 941,
   "metadata": {},
   "outputs": [
    {
     "data": {
      "text/plain": [
       "['Skoda Octavia A8 2022',\n",
       " 'Seat Ateca 2021',\n",
       " 'Jeep Grand Cherokee 2015',\n",
       " 'Mitsubishi Pajero 2015',\n",
       " 'BMW 318 2019',\n",
       " 'BMW X1 2020',\n",
       " 'Peugeot 508 2022',\n",
       " 'Mercedes E 250 2011',\n",
       " 'Skoda Kodiaq 2019',\n",
       " 'Nissan Qashqai 2022',\n",
       " 'Mercedes CLA 180 2019',\n",
       " 'Opel Grandland 2022',\n",
       " 'Citroën C5 Aircross 2022',\n",
       " 'Jeep Grand Cherokee 2014',\n",
       " 'Skoda Kamiq 2022',\n",
       " 'Jeep Renegade 2022',\n",
       " 'Peugeot 3008 2020',\n",
       " 'Skoda Octavia A8 2021',\n",
       " 'Hyundai Tucson 2021',\n",
       " 'Kia Sportage 2022',\n",
       " 'BMW X3 2015',\n",
       " 'BMW X3 2016',\n",
       " 'Hyundai Tucson GDI 2021',\n",
       " 'Seat Ateca 2022',\n",
       " 'BMW 320 2016',\n",
       " 'Mercedes E 250 2010',\n",
       " 'Seat Leon 2022',\n",
       " 'Peugeot 508 2021',\n",
       " 'Kia Sportage 2021',\n",
       " 'BMW X1 2017',\n",
       " 'Opel Grandland 2021',\n",
       " 'Peugeot 508 2020',\n",
       " 'Hyundai Tucson Turbo GDI 2020',\n",
       " 'Citroën C5 2021',\n",
       " 'Citroën C5 Aircross 2021',\n",
       " 'BMW 318 2018',\n",
       " 'Peugeot 5008 2019',\n",
       " 'Kia Sportage 2020',\n",
       " 'Citroën C5 2022',\n",
       " 'Seat Leon 2021',\n",
       " 'Opel Insignia 2020',\n",
       " 'Hyundai Tucson GDI 2020',\n",
       " 'BMW 320 2017',\n",
       " 'BMW X3 2014',\n",
       " 'Mercedes E 200 2013',\n",
       " 'Jetour X95 2022',\n",
       " 'Skoda Superb 2018',\n",
       " 'Toyota Fortuner 2013',\n",
       " 'Toyota Fortuner 2016',\n",
       " 'Citroën C5 Aircross 2020',\n",
       " 'Volkswagen Passat 2019',\n",
       " 'Opel Mokka 2022',\n",
       " 'Hyundai Tucson 2020',\n",
       " 'Haval H6 2022',\n",
       " 'Peugeot 3008 2019',\n",
       " 'Kia Xceed 2022',\n",
       " 'Opel Grandland 2020',\n",
       " 'BMW 320 2015',\n",
       " 'Mercedes C 250 2012',\n",
       " 'Peugeot 508 2019',\n",
       " 'Skoda Superb 2019',\n",
       " 'Hyundai Tucson Turbo GDI 2019',\n",
       " 'Toyota C-HR 2022',\n",
       " 'Volkswagen Passat 2018',\n",
       " 'Skoda Octavia A7 2020',\n",
       " 'Kia Sportage 2019',\n",
       " 'MG HS 2022',\n",
       " 'BMW X3 2013',\n",
       " 'Hyundai Tucson GDI 2019',\n",
       " 'Hyundai Tucson 2019',\n",
       " 'Opel Insignia 2019',\n",
       " 'Peugeot 2008 2022',\n",
       " 'Renault Kadjar 2022',\n",
       " 'Subaru XV 2021',\n",
       " 'Jeep Renegade 2021',\n",
       " 'Ford Kuga 2019',\n",
       " 'Toyota Corolla 2022',\n",
       " 'BMW 318 2017',\n",
       " 'Opel Insignia 2018',\n",
       " 'Seat Ateca 2018',\n",
       " 'Hyundai Tucson Turbo GDI 2018',\n",
       " 'Mercedes CLA 200 2014',\n",
       " 'Jeep Wrangler 2015',\n",
       " 'Chery Tiggo 7 pro 2022',\n",
       " 'Kia Sportage 2018',\n",
       " 'Toyota Rush 2022',\n",
       " 'Ford Kuga 2018',\n",
       " 'Mitsubishi Pajero 2014',\n",
       " 'BMW 520 2013',\n",
       " 'Jeep Grand Cherokee 2011',\n",
       " 'Mercedes C 180 2013',\n",
       " 'BMW 320 2014',\n",
       " 'Subaru XV 2019',\n",
       " 'Chery Tiggo 8 2022',\n",
       " 'Ford Fusion 2018',\n",
       " 'Hyundai Tucson GDI 2018',\n",
       " 'Jeep Wrangler 2014',\n",
       " 'Peugeot 2008 2021',\n",
       " 'Kia Sportage 2017',\n",
       " 'Mercedes CLA 180 2015',\n",
       " 'Jeep Wrangler 2016',\n",
       " 'Nissan Qashqai 2021',\n",
       " 'Renault Kadjar 2021',\n",
       " 'Seat Ibiza 2022',\n",
       " 'MG HS 2021',\n",
       " 'Opel Grandland 2019',\n",
       " 'Hyundai Tucson 2018',\n",
       " 'Opel Mokka 2023',\n",
       " 'Nissan Juke 2022',\n",
       " 'Mercedes C 180 2012',\n",
       " 'Seat Leon 2020',\n",
       " 'Opel Grandland 2018',\n",
       " 'Seat Arona 2021',\n",
       " 'Volkswagen Tiguan 2016',\n",
       " 'Volkswagen Tiguan 2017',\n",
       " 'Opel Crossland 2022',\n",
       " 'BMW 318 2016',\n",
       " 'BMW 750 2010',\n",
       " 'Hyundai Tucson GDI 2017',\n",
       " 'BMW X3 2012',\n",
       " 'Mercedes E 300 2010',\n",
       " 'Citroën C4 2022',\n",
       " 'Opel Corsa 2023',\n",
       " 'Haval Jolion 2022',\n",
       " 'Jeep Renegade 2020',\n",
       " 'Mercedes CLA 180 2018',\n",
       " 'Volkswagen Passat 2017',\n",
       " 'Renault Megane 2022',\n",
       " 'Hyundai Tucson 2017',\n",
       " 'Jeep Wrangler 2013',\n",
       " 'BMW X1 2021',\n",
       " 'Nissan Qashqai 2020',\n",
       " 'Renault Duster 2023',\n",
       " 'Kia Grand Cerato 2022',\n",
       " 'Toyota Corolla 2021',\n",
       " 'Fiat 500 X 2021',\n",
       " 'Skoda Octavia A7 2018',\n",
       " 'Renault Kadjar 2020',\n",
       " 'Volkswagen Tiguan 2018',\n",
       " 'Hyundai Elantra CN7 2022',\n",
       " 'Chery Tiggo 8 2021',\n",
       " 'Hyundai Bayon 2022',\n",
       " 'Chevrolet Captiva 2021',\n",
       " 'Toyota Rush 2020',\n",
       " 'Kia Cerato 2022',\n",
       " 'Nissan Juke 2021',\n",
       " 'Chevrolet Malibu 2019',\n",
       " 'Chevrolet Equinox 2018',\n",
       " 'Mitsubishi Eclipse Cross 2019',\n",
       " 'BMW 316 2015',\n",
       " 'Mitsubishi Eclipse Cross 2020',\n",
       " 'Mercedes E 250 2012',\n",
       " 'MG Rx5 2022',\n",
       " 'Toyota Fortuner 2015',\n",
       " 'MG Rx5 2021',\n",
       " 'Mitsubishi Xpander 2022',\n",
       " 'Renault Kadjar 2019',\n",
       " 'Seat Leon 2019',\n",
       " 'Ford Focus 2022',\n",
       " 'Volvo S60 2018',\n",
       " 'Jeep Wrangler 2012',\n",
       " 'Isuzu D max 2022',\n",
       " 'Hyundai Elantra CN7 2021',\n",
       " 'Mercedes C 250 2011',\n",
       " 'Mitsubishi Eclipse 2018',\n",
       " 'BMW 320 2013',\n",
       " 'MG Rx5 2020',\n",
       " 'Mitsubishi Eclipse Cross 2018',\n",
       " 'Ford Kuga 2017',\n",
       " 'Toyota Corolla 2020',\n",
       " 'Kia Grand Cerato 2021',\n",
       " 'MG 6 2022',\n",
       " 'BMW X1 2019',\n",
       " 'BMW 520 2016',\n",
       " 'Kia Sportage 2016',\n",
       " 'Nissan Qashqai 2019',\n",
       " 'Seat Leon 2018',\n",
       " 'Kia Sportage 2015',\n",
       " 'Hyundai Creta 2021',\n",
       " 'Toyota C-HR 2017',\n",
       " 'Opel Corsa 2022',\n",
       " 'Chevrolet Captiva 2020',\n",
       " 'Toyota Corolla 2019',\n",
       " 'Subaru XV 2018',\n",
       " 'Geely Cool Ray 2022',\n",
       " 'Kia Grand Cerato 2020',\n",
       " 'Fiat 500 X 2019',\n",
       " 'Opel Insignia 2017',\n",
       " 'Hyundai Matrix 2008',\n",
       " 'Jeep Liberty 2003',\n",
       " 'Nissan Sunny 2014',\n",
       " 'Mitsubishi Lancer 2009',\n",
       " 'Mitsubishi Lancer 2008',\n",
       " 'Peugeot 408 2012',\n",
       " 'Nissan Sunny 2011',\n",
       " 'Hyundai Elantra HD 2007',\n",
       " 'Hyundai Matrix 2002',\n",
       " 'Nissan XTrail 2008',\n",
       " 'Daihatsu SIRION 2007',\n",
       " 'Hyundai Matrix 2003',\n",
       " 'BMW 318 2002',\n",
       " 'Kia Cerato 2008',\n",
       " 'Hyundai Avante 2004',\n",
       " 'Toyota Corolla 2003',\n",
       " 'Hyundai Verna 2017',\n",
       " 'Chevrolet Pickup 2015',\n",
       " 'Mazda 3 2007',\n",
       " 'Skoda Octavia A4 2007',\n",
       " 'Hyundai Avante 2003',\n",
       " 'Toyota Corolla 2002',\n",
       " 'Chevrolet N300 2020',\n",
       " 'Mitsubishi Attrage 2015',\n",
       " 'Renault Logan 2017',\n",
       " 'Renault Megane 2015',\n",
       " 'Hyundai I10 2014',\n",
       " 'Hyundai Getz 2011',\n",
       " 'Chevrolet T-Series 2011',\n",
       " 'Mazda 3 2008',\n",
       " 'Mitsubishi Lancer Puma 2008',\n",
       " 'Chevrolet Aveo 2015',\n",
       " 'Chevrolet Optra 2012',\n",
       " 'Nissan Sunny 2010',\n",
       " 'Chevrolet Captiva 2011',\n",
       " 'Chevrolet Optra 2011',\n",
       " 'Hyundai I30 2009',\n",
       " 'Hyundai Sonata 2008',\n",
       " 'Chevrolet N300 2019',\n",
       " 'Proton Gen 2 2012',\n",
       " 'Nissan Livina 2009',\n",
       " 'Hyundai Matrix 2006',\n",
       " 'Suzuki Sx4 2016',\n",
       " 'Chevrolet Aveo 2014',\n",
       " 'Nissan Sunny 2013',\n",
       " 'Skoda Octavia A4 2005',\n",
       " 'Byd F3 2019',\n",
       " 'Chevrolet Cruze 2012',\n",
       " 'BMW 316 2008',\n",
       " 'Isuzu D max 2007',\n",
       " 'Hyundai Avante 2006',\n",
       " 'Renault Logan 2016',\n",
       " 'Nissan Tiida 2009',\n",
       " 'Mitsubishi Lancer 2007',\n",
       " 'Daewoo Lacetti 2005',\n",
       " 'Mercedes E 240 2000',\n",
       " 'Chevrolet Pickup 2012',\n",
       " 'Hyundai Accent 2011',\n",
       " 'Kia Forte 2011',\n",
       " 'Kia Picanto 2011',\n",
       " 'Isuzu D max 2008',\n",
       " 'Skoda Octavia A4 2008',\n",
       " 'Mitsubishi Lancer Puma 2007',\n",
       " 'Kia Cerato 2005',\n",
       " 'Mercedes E 200 2001',\n",
       " 'Chevrolet Cruze 2011',\n",
       " 'Peugeot 308 2009',\n",
       " 'Opel Astra 2008',\n",
       " 'Hyundai Accent 2010',\n",
       " 'Kia Rio 2011',\n",
       " 'Hyundai Matrix 2005',\n",
       " 'BMW 523 1999',\n",
       " 'Suzuki S Presso 2021',\n",
       " 'Mazda 3 2009',\n",
       " 'Suzuki Van 2022',\n",
       " 'Haima M3 2018',\n",
       " 'Toyota Yaris 2007',\n",
       " 'Skoda Octavia A4 2006',\n",
       " 'Renault Sandero Step Way 2014',\n",
       " 'Renault Sandero 2014',\n",
       " 'Hyundai Avante 2005',\n",
       " 'Lada Granta 2020',\n",
       " 'Toyota Yaris 2008',\n",
       " 'Ford Focus 2008',\n",
       " 'Chevrolet Lanos 2019',\n",
       " 'Kia Cerato 2004',\n",
       " 'Daihatsu Terios 2014',\n",
       " 'Mitsubishi Attrage 2014',\n",
       " 'Hyundai I10 2011',\n",
       " 'Nissan Sunny 2009',\n",
       " 'Daihatsu SIRION 2009',\n",
       " 'Toyota Avanza 2008',\n",
       " 'Hyundai Accent 2009',\n",
       " 'Peugeot 407 2008',\n",
       " 'Opel Vectra 2007',\n",
       " 'BMW 523 1998',\n",
       " 'Chevrolet Cruze 2010',\n",
       " 'Daihatsu Materia 2007',\n",
       " 'Mitsubishi Lancer Puma 2006',\n",
       " 'Mazda 3 2006',\n",
       " 'Hyundai Elantra 2005',\n",
       " 'Fiat Punto evo 2011',\n",
       " 'Hyundai Getz 2008',\n",
       " 'Nissan Sunny 2008',\n",
       " 'Mitsubishi Lancer 2006',\n",
       " 'Skoda Octavia A4 2002',\n",
       " 'Hyundai Matrix 2001',\n",
       " 'Chevrolet N300 2018',\n",
       " 'Nissan Tiida 2011',\n",
       " 'Hyundai Getz 2009',\n",
       " 'Hyundai Avante 2002',\n",
       " 'Byd F3 2018',\n",
       " 'Hyundai Accent 2008',\n",
       " 'Opel Astra 2007',\n",
       " 'Mitsubishi Lancer Puma 2005',\n",
       " 'Hyundai Avante 2001',\n",
       " 'Renault Duster 2011',\n",
       " 'Kia Picanto 2010',\n",
       " 'Suzuki Vitara 2007',\n",
       " 'Hyundai I10 2017',\n",
       " 'Skoda Rapid 2013',\n",
       " 'Speranza Tiggo 2013',\n",
       " 'Toyota Avanza 2009',\n",
       " 'Kia Picanto 2009',\n",
       " 'Chevrolet T-Series 2012',\n",
       " 'Chevrolet Optra 2010',\n",
       " 'Hyundai XD 2005',\n",
       " 'Renault Logan 2015',\n",
       " 'Honda HRV 2005',\n",
       " 'Mercedes E 200 1998',\n",
       " 'Hyundai I10 2012',\n",
       " 'Mitsubishi Lancer 2012',\n",
       " 'Suzuki Sx4 2009',\n",
       " 'Chevrolet Optra 2009',\n",
       " 'Nissan Tiida 2007',\n",
       " 'Skoda Octavia A4 2003',\n",
       " 'Citroën C Elysee 2016',\n",
       " 'Hyundai Sonata 2009',\n",
       " 'BMW 318 2001',\n",
       " 'BMW 318 2000',\n",
       " 'Hyundai Verna 2016',\n",
       " 'Hyundai Getz 2007',\n",
       " 'Daewoo Lacetti 2004',\n",
       " 'Speranza Tiggo 2012',\n",
       " 'Mitsubishi Lancer 2011',\n",
       " 'Kia Picanto 2008',\n",
       " 'Hyundai Matrix 2004',\n",
       " 'Renault Sandero 2013',\n",
       " 'Nissan Tiida 2008',\n",
       " 'Peugeot 307 2007',\n",
       " 'Nissan Sunny 2007',\n",
       " 'Hyundai Getz 2006',\n",
       " 'Hyundai Elantra 2006',\n",
       " 'Hyundai Elantra 2004',\n",
       " 'Daewoo Lacetti 2003',\n",
       " 'Peugeot 307 2006',\n",
       " 'Honda City 2006',\n",
       " 'Chevrolet Lanos 2018',\n",
       " 'Byd L3 2017',\n",
       " 'Hyundai Accent 2015',\n",
       " 'Chevrolet Aveo 2013',\n",
       " 'Citroën C4 2006',\n",
       " 'Nissan Sunny 2005',\n",
       " 'Hyundai Elantra Coupe 2005',\n",
       " 'Suzuki Van 2021',\n",
       " 'Chevrolet Optra 2008',\n",
       " 'Toyota Yaris 2006',\n",
       " 'Proton Gen 2 2013',\n",
       " 'Mitsubishi Lancer 2010',\n",
       " 'Chevrolet Pickup 2009',\n",
       " 'Geely Emgrand 7 2018',\n",
       " 'Byd F3 2017',\n",
       " 'Mitsubishi Lancer 2005',\n",
       " 'Proton Gen 2 2015',\n",
       " 'Proton Saga 2013',\n",
       " 'Renault Sandero Step Way 2013',\n",
       " 'Chevrolet T-Series 2010',\n",
       " 'Skoda Octavia A4 2004',\n",
       " 'Suzuki Van 2019',\n",
       " 'Senova A1 2018',\n",
       " 'Byd L3 2016',\n",
       " 'Hyundai I10 2013',\n",
       " 'Kia Cerato 2007',\n",
       " 'Renault Megane 2007',\n",
       " 'BMW 318 1999',\n",
       " 'Renault Sandero Step Way 2012',\n",
       " 'Skoda Octavia A4 2001',\n",
       " 'Nissan Sunny 2006',\n",
       " 'Peugeot 307 2005',\n",
       " 'Lada Granta 2019',\n",
       " 'Peugeot 208 2015',\n",
       " 'Speranza Tiggo 2011',\n",
       " 'Nissan Tiida 2006',\n",
       " 'Chevrolet Optra 2006',\n",
       " 'Mitsubishi Lancer Puma 2004',\n",
       " 'Hyundai Verna 2015',\n",
       " 'Daihatsu Terios 2013',\n",
       " 'Peugeot 5008 2013',\n",
       " 'Toyota Corolla 2005',\n",
       " 'Ford Focus 2013',\n",
       " 'Brilliance V5 2013',\n",
       " 'Kia Rio 2013',\n",
       " 'Kia Cerato 2010',\n",
       " 'Daihatsu Terios 2009',\n",
       " 'Kia Picanto 2015',\n",
       " 'Volkswagen Passat 2006',\n",
       " 'Renault Sandero Step Way 2017',\n",
       " 'Suzuki Ciaz 2015',\n",
       " 'Changan Alsvin 2022',\n",
       " 'Chery Arrizo 5 2021',\n",
       " 'Chery Tiggo 3 2017',\n",
       " 'Speranza Tiggo 2017',\n",
       " 'Renault Sandero Step Way 2016',\n",
       " 'Hyundai Solaris 2016',\n",
       " 'Brilliance V5 2014',\n",
       " 'Peugeot 301 2018',\n",
       " 'Mitsubishi Lancer 2014',\n",
       " 'Jac S2 2019',\n",
       " 'Chevrolet Cruze 2015',\n",
       " 'Mitsubishi Lancer Puma 2012',\n",
       " 'Opel Astra 2012',\n",
       " 'Volkswagen Jetta 2006',\n",
       " 'Chevrolet Pickup 2019',\n",
       " 'Volkswagen Golf 2011',\n",
       " 'BMW 316 2006',\n",
       " 'Hyundai I10 2016',\n",
       " 'Hyundai Matrix 2011',\n",
       " 'Chery Tiggo 2017',\n",
       " 'Chery Arrizo 5 2019',\n",
       " 'Faw X40 2018',\n",
       " 'Jac S3 2016',\n",
       " 'Opel Meriva 2015',\n",
       " 'Chery Arrizo 5 2020',\n",
       " 'Chery Tiggo 2018',\n",
       " 'Suzuki Swift 2015',\n",
       " 'Hyundai Grand i10 2016',\n",
       " 'Mercedes B 160 2010',\n",
       " 'Renault Sandero 2019',\n",
       " 'Nissan Sunny 2018',\n",
       " 'Kia Picanto 2014',\n",
       " 'Hyundai Elantra HD 2009',\n",
       " 'Honda Civic 2007',\n",
       " 'Jeep Liberty 2005',\n",
       " 'Jac S3 2018',\n",
       " 'Daihatsu Grand terios 2010',\n",
       " 'Toyota Corolla 2008',\n",
       " 'Chevrolet Optra 2018',\n",
       " 'Hyundai Grand i10 2015',\n",
       " 'Chevrolet T-Series 2014',\n",
       " 'Mitsubishi Lancer Puma 2011',\n",
       " 'Hyundai Avante 2007',\n",
       " 'Toyota Corolla 2006',\n",
       " 'Mitsubishi Pajero 2003',\n",
       " 'Speranza Tiggo 2020',\n",
       " 'Ford Focus 2012',\n",
       " 'Volkswagen Golf 2010',\n",
       " 'Skoda Octavia A5 2009',\n",
       " 'Geely Imperial 2019',\n",
       " 'Kia Rio 2012',\n",
       " 'Proton Saga 2022',\n",
       " 'Hyundai Grand i10 2017',\n",
       " 'Daihatsu Terios 2011',\n",
       " 'Hyundai Elantra 2010',\n",
       " 'Hyundai Elantra 2009',\n",
       " 'BMW X3 2009',\n",
       " 'Volkswagen Golf 2005',\n",
       " 'Renault Sandero 2017',\n",
       " 'Renault Fluence 2013',\n",
       " 'Hyundai Elantra 2011',\n",
       " 'Daihatsu Terios 2010',\n",
       " 'Fiat Punto 2017',\n",
       " 'Mini Cooper 2012',\n",
       " 'Mazda 3 2010',\n",
       " 'Jeep Liberty 2006',\n",
       " 'Citroën C Elysee 2015',\n",
       " 'Kia Picanto 2013',\n",
       " 'Skoda Octavia A5 2008',\n",
       " 'Peugeot 301 2016',\n",
       " 'Chevrolet T-Series 2015',\n",
       " 'Hyundai Accent RB 2013',\n",
       " 'Kia Forte 2010',\n",
       " 'Hyundai Elantra HD 2008',\n",
       " 'Hyundai Elantra HD 2011',\n",
       " 'Chevrolet Aveo 2019',\n",
       " 'Mitsubishi Lancer EX Shark 2009',\n",
       " 'Hyundai Matrix 2009',\n",
       " 'Nissan Sunny 2017',\n",
       " 'Hyundai I10 2015',\n",
       " 'Chevrolet Cruze 2014',\n",
       " 'Renault Logan 2018',\n",
       " 'Hyundai Accent RB 2012',\n",
       " 'Volkswagen Golf 2009',\n",
       " 'Byd F3 2021',\n",
       " 'Speranza Tiggo 2018',\n",
       " 'Chevrolet Pickup 2016',\n",
       " 'Nissan Tiida 2010',\n",
       " 'Hyundai Elantra 2008',\n",
       " 'DFSK 330S 2020',\n",
       " 'Mitsubishi Lancer 2013',\n",
       " 'Mitsubishi Lancer Puma 2010',\n",
       " 'Hyundai Elantra 2007',\n",
       " 'DFSK Glory 2021',\n",
       " 'Peugeot 308 sw 2011',\n",
       " 'Mazda 3 2011',\n",
       " 'Chevrolet Optra 2017',\n",
       " 'Renault Captur 2016',\n",
       " 'Hyundai Matrix 2010',\n",
       " 'Hyundai Avante 2010',\n",
       " 'Chevrolet Pickup 2017',\n",
       " 'Mercedes B 150 2006',\n",
       " 'Jeep Liberty 2004',\n",
       " 'Renault Sandero 2016',\n",
       " 'Renault Sandero 2015',\n",
       " 'Kia Cerato 2009',\n",
       " 'Mitsubishi Lancer EX Shark 2008',\n",
       " 'Skoda Octavia A5 2007',\n",
       " 'Chevrolet N300 2021',\n",
       " 'Toyota Yaris 2016',\n",
       " 'Changan CS 35 2016',\n",
       " 'Peugeot 301 2015',\n",
       " 'Suzuki S Presso 2022',\n",
       " 'Senova X25 2017',\n",
       " 'Nissan Sunny 2016',\n",
       " 'Skoda Octavia A5 2006',\n",
       " 'Lada Granta 2022',\n",
       " 'DFSK Glory 330 2021',\n",
       " 'Canghe M50 2019',\n",
       " 'Chevrolet Aveo 2017',\n",
       " 'Renault Fluence 2012',\n",
       " 'Fiat Punto 2015',\n",
       " 'Chevrolet Optra 2016',\n",
       " 'Mitsubishi Lancer EX Shark 2012',\n",
       " 'Canghe M50 2020',\n",
       " 'Chevrolet Cruze 2013',\n",
       " 'Mercedes B 150 2008',\n",
       " 'Hyundai Verna 2019',\n",
       " 'Chevrolet Aveo 2018',\n",
       " 'Renault Sandero Step Way 2015',\n",
       " 'Nissan Tiida 2012',\n",
       " 'Toyota Corolla 2004',\n",
       " 'Peugeot 301 2014',\n",
       " 'Hyundai Accent 2012',\n",
       " 'Mitsubishi Lancer Puma 2009',\n",
       " 'Citroën C Elysee 2014',\n",
       " 'Opel Corsa 2013',\n",
       " 'Chevrolet Optra 2013',\n",
       " 'Hyundai Ix20 2012',\n",
       " 'Hyundai I30 2008',\n",
       " 'Chevrolet Aveo 2016',\n",
       " 'Jac S2 2017',\n",
       " 'Renault Duster 2012',\n",
       " 'Hyundai Getz 2010',\n",
       " 'Changan CS 35 2015',\n",
       " 'Chevrolet Optra 2014',\n",
       " 'Kia Picanto 2012',\n",
       " 'Hyundai Elantra HD 2010',\n",
       " 'Daihatsu Terios 2008',\n",
       " 'Daihatsu Terios 2007',\n",
       " 'Renault Fluence 2010',\n",
       " 'Hyundai Avante 2008',\n",
       " 'Byd F3 2020',\n",
       " 'Nissan Sunny 2015',\n",
       " 'Chevrolet Optra 2015',\n",
       " 'Geely Emgrand 7 2019',\n",
       " 'Nissan Sunny 2012',\n",
       " 'Honda City 2009',\n",
       " 'Lada Granta 2021',\n",
       " 'Hyundai Verna 2018',\n",
       " 'Seat Ibiza 2014',\n",
       " 'Hyundai Accent RB 2011',\n",
       " 'Mercedes B 150 2007',\n",
       " 'BMW 318 2005',\n",
       " 'Peugeot 308 2011',\n",
       " 'Skoda Octavia A5 2005',\n",
       " 'Senova X35 2018',\n",
       " 'MG 750 2017',\n",
       " 'Speranza Tiggo 2014',\n",
       " 'Renault Fluence 2011',\n",
       " 'Nissan Tiida 2013',\n",
       " 'Hyundai Avante 2009',\n",
       " 'Opel Vectra 2008',\n",
       " 'Hyundai Matrix 2007',\n",
       " 'Kia Cerato 2006',\n",
       " 'Jeep Liberty 2002',\n",
       " 'Mercedes C 180 2002',\n",
       " 'Proton Saga 2020',\n",
       " 'Fiat Punto 2016',\n",
       " 'Nissan Tiida 2014',\n",
       " 'Daewoo Lacetti 2006',\n",
       " 'Skoda Octavia A4 2009',\n",
       " 'Toyota Yaris 2009',\n",
       " 'Peugeot 307 2008',\n",
       " 'Kia Rio 2015',\n",
       " 'Chery Arrizo 5 2022',\n",
       " 'Chery Tiggo 2019',\n",
       " 'Hyundai Accent RB 2017',\n",
       " 'Skoda Yeti 2014',\n",
       " 'Kia Cerato Koup 2011',\n",
       " 'Kia Pegas 2020',\n",
       " 'Renault Logan 2021',\n",
       " 'Nissan Sentra 2015',\n",
       " 'Kia Forte 2009',\n",
       " 'Mercedes C 180 2003',\n",
       " 'Ssang Yong Tivoli XLV 2017',\n",
       " 'Renault Fluence 2016',\n",
       " 'Nissan Sunny 2020',\n",
       " 'Nissan Tiida 2015',\n",
       " 'BMW 318 2009',\n",
       " 'Kia Cerato Koup 2012',\n",
       " 'Hyundai Elantra 2012',\n",
       " 'Volkswagen Passat 2007',\n",
       " 'Mini Country man 2013',\n",
       " 'Hyundai Avante 2012',\n",
       " 'Volkswagen Jetta 2009',\n",
       " 'DFSK Glory 330 2022',\n",
       " 'BMW 116 2008',\n",
       " 'Nissan Juke 2012',\n",
       " 'Hyundai Veloster 2012',\n",
       " 'Peugeot 3008 2011',\n",
       " 'BMW 316 2007',\n",
       " 'Toyota Yaris 2018',\n",
       " 'Kia Carens 2010',\n",
       " 'Brilliance V5 2017',\n",
       " 'Renault Fluence 2015',\n",
       " 'Peugeot 3008 2013',\n",
       " 'Toyota Corolla 2010',\n",
       " 'Changan Eado 2022',\n",
       " 'Chery Tiggo 3 2018',\n",
       " 'Hyundai Elantra MD 2012',\n",
       " 'Kia Rio 2019',\n",
       " 'Kia Picanto 2017',\n",
       " 'Chevrolet N300 2023',\n",
       " 'Chevrolet Optra 2020',\n",
       " 'Chevrolet T-Series 2018',\n",
       " 'Chevrolet Cruze 2016',\n",
       " 'Brilliance V5 2015',\n",
       " 'Toyota Yaris 2014',\n",
       " 'Mitsubishi Lancer Puma 2014',\n",
       " 'Jeep Liberty 2007',\n",
       " 'BMW 520 2005',\n",
       " 'Chevrolet Pickup 2022',\n",
       " 'Renault Fluence 2014',\n",
       " 'Renault Logan 2020',\n",
       " 'Kia Picanto 2016',\n",
       " 'Honda City 2016',\n",
       " 'Hyundai Accent RB 2016',\n",
       " 'Opel Astra 2013',\n",
       " 'Hyundai Accent RB 2015',\n",
       " 'Daihatsu Grand terios 2009',\n",
       " 'Daihatsu Grand terios 2011',\n",
       " 'Byd F3 2022',\n",
       " 'Mercedes E 240 1999',\n",
       " 'Proton Saga 2021',\n",
       " 'Proton Preve 2019',\n",
       " 'Suzuki Ciaz 2016',\n",
       " 'Renault Duster 2015',\n",
       " 'Kia Rio 2014',\n",
       " 'Kia Cerato 2012',\n",
       " 'Nissan Sunny 2019',\n",
       " 'Seat Ibiza 2018',\n",
       " 'Opel Meriva 2016',\n",
       " 'Toyota Corolla 2007',\n",
       " 'Hyundai Solaris 2017',\n",
       " 'Volkswagen Jetta 2008',\n",
       " 'DFSK 330S 2021',\n",
       " 'Renault Duster 2016',\n",
       " 'Ford Focus 2014',\n",
       " 'Chevrolet Optra 2019',\n",
       " 'Mitsubishi Lancer Puma 2013',\n",
       " 'Kia Cerato 2011',\n",
       " 'Hyundai Avante 2011',\n",
       " 'Kia Soul 2009',\n",
       " 'Toyota Avanza 2013',\n",
       " 'Isuzu D max 2014',\n",
       " 'Mitsubishi Lancer EX Shark 2013',\n",
       " 'Hyundai Elantra MD 2011',\n",
       " 'Honda Civic 2008',\n",
       " 'Chevrolet N300 2022',\n",
       " 'Kia Cerato Koup 2010',\n",
       " 'Volkswagen Jetta 2010',\n",
       " 'Chevrolet Aveo 2020',\n",
       " 'Renault Logan 2019',\n",
       " 'Chevrolet Captiva 2010',\n",
       " 'Toyota Corolla 2009',\n",
       " 'Volkswagen Jetta 2007',\n",
       " 'Volkswagen Golf 2012',\n",
       " 'Hyundai Accent RB 2014',\n",
       " 'BMW 523 2007',\n",
       " 'Hyundai Elantra HD 2019',\n",
       " 'Chevrolet Captiva 2012',\n",
       " 'Renault Captur 2017',\n",
       " 'Mercedes C 180 2007',\n",
       " 'Peugeot 508 2012',\n",
       " 'Kia K3 2014',\n",
       " 'Skoda Fantasia 2012',\n",
       " 'Kia Soul 2011',\n",
       " 'Renault Sandero Step Way 2019',\n",
       " 'Nissan Sentra 2017',\n",
       " 'Mitsubishi Lancer 2016',\n",
       " 'BMW X3 2008',\n",
       " 'BMW 320 2007',\n",
       " 'BMW 523 2006',\n",
       " 'Citroën C Elysee 2020',\n",
       " 'Ford Fusion 2016',\n",
       " 'Hyundai Elantra 2014',\n",
       " 'Honda Civic 2012',\n",
       " 'Volkswagen Passat 2010',\n",
       " 'Chery Tiggo 2021',\n",
       " 'Daihatsu Terios 2015',\n",
       " 'Hyundai Elantra MD 2014',\n",
       " 'BMW X3 2007',\n",
       " 'Dodge Dart 2013',\n",
       " 'Peugeot 301 2020',\n",
       " 'Kia Carens 2013',\n",
       " 'Ssang Yong Tivoli 2016',\n",
       " 'Brilliance V3 2018',\n",
       " 'Zotye T600 2018',\n",
       " 'Kia Carens 2012',\n",
       " 'Volkswagen Jetta 2012',\n",
       " 'Renault Logan 2022',\n",
       " 'Renault Sandero Step Way 2020',\n",
       " 'Toyota Corolla 2011',\n",
       " 'Volkswagen Jetta 2011',\n",
       " 'Peugeot 3008 2014',\n",
       " 'Daihatsu Grand terios 2012',\n",
       " 'Mercedes E 200 2005',\n",
       " 'Mitsubishi Lancer EX Shark 2015',\n",
       " 'Nissan Juke 2014',\n",
       " 'Skoda Fantasia 2011',\n",
       " 'Toyota Avanza 2015',\n",
       " 'Kia Soul 2013',\n",
       " 'Renault Lodgy 2017',\n",
       " 'Nissan Qashqai 2012',\n",
       " 'DFSK 330S 2022',\n",
       " 'Hyundai Elantra HD 2018',\n",
       " 'Subaru XV 2014',\n",
       " 'Volkswagen Passat 2009',\n",
       " 'Chevrolet Cruze 2017',\n",
       " 'Renault Duster 2017',\n",
       " 'Geely X7 2019',\n",
       " 'Opel Astra 2015',\n",
       " 'Peugeot 2008 2015',\n",
       " 'Skoda Fantasia 2010',\n",
       " 'Chevrolet Optra 2021',\n",
       " 'Chery Tiggo 2020',\n",
       " 'Peugeot 301 2019',\n",
       " 'Chery A5 2022',\n",
       " 'Nissan Sunny 2021',\n",
       " 'Mercedes C 180 2004',\n",
       " 'Mercedes E 200 2003',\n",
       " 'Haima S5 2018',\n",
       " 'Kia Carens 2011',\n",
       " 'Hyundai Elantra HD 2017',\n",
       " 'Chevrolet T-Series 2016',\n",
       " 'Nissan Sentra 2016',\n",
       " 'Nissan Juke 2013',\n",
       " 'Skoda Fantasia 2009',\n",
       " 'Suzuki Swift Dzire 2022',\n",
       " 'Renault Fluence 2017',\n",
       " 'Mitsubishi Lancer 2015',\n",
       " 'BMW 316 2011',\n",
       " 'Kia Rio 2016',\n",
       " 'Jac S3 2019',\n",
       " 'Renault Sandero Step Way 2018',\n",
       " 'Toyota Yaris 2015',\n",
       " 'Hyundai Elantra 2013',\n",
       " 'Hyundai Elantra MD 2013',\n",
       " 'Volkswagen Jetta 2013',\n",
       " 'Chery Tiggo 3 2019',\n",
       " 'Seat Toledo 2016',\n",
       " 'Speranza Tiggo 2019',\n",
       " 'Opel Astra 2014',\n",
       " 'Kia Soul 2010',\n",
       " 'Volkswagen Passat 2008',\n",
       " 'Skoda Rapid 2015',\n",
       " 'Mitsubishi Lancer EX Shark 2014',\n",
       " 'Kia Cerato 2013',\n",
       " 'Honda Civic 2010',\n",
       " 'Honda Civic 2009',\n",
       " 'Mitsubishi Pajero 2006',\n",
       " 'Byd F3 2023',\n",
       " 'Suzuki Swift Dzire 2021',\n",
       " 'Chery Tiggo 4 2019',\n",
       " 'BMW 320 2006',\n",
       " 'Jetour X70 2022',\n",
       " 'Mercedes C 200 2008',\n",
       " 'Mercedes C 180 2010',\n",
       " 'Renault Duster 2022',\n",
       " 'Renault Megane 2021',\n",
       " 'Volkswagen CC 2013',\n",
       " 'Mercedes E 200 2010',\n",
       " 'BMW 316 2014',\n",
       " 'Jeep Renegade 2017',\n",
       " 'Chery Tiggo 7 2023',\n",
       " 'Ford Kuga 2016',\n",
       " 'Ds DS7 2019',\n",
       " 'Renault Duster 2021',\n",
       " 'Opel Insignia 2016',\n",
       " 'Seat Ibiza 2021',\n",
       " 'Jetour X70 2021',\n",
       " 'Jeep Renegade 2016',\n",
       " 'Peugeot 2008 2020',\n",
       " 'Hyundai IX 35 2016',\n",
       " 'Jeep Wrangler 2011',\n",
       " 'Seat Ibiza 2020',\n",
       " 'BMW 316 2013',\n",
       " 'Hyundai I20 2022',\n",
       " 'Toyota Corolla 2018',\n",
       " 'Mercedes C 200 2009',\n",
       " 'Fiat Tipo 2022',\n",
       " 'Ssang Yong Tivoli XLV 2020',\n",
       " 'Renault Kadjar 2018',\n",
       " 'Hyundai Elantra HD 2023',\n",
       " 'Mercedes C 180 2011',\n",
       " 'Jeep Renegade 2018',\n",
       " 'Kia Sportage 2014',\n",
       " 'MG 6 2021',\n",
       " 'Jac JS4 2022',\n",
       " 'Mercedes B 200 2013',\n",
       " 'Renault Megane 2020',\n",
       " 'Nissan Qashqai 2018',\n",
       " 'Nissan Sentra 2023',\n",
       " 'Toyota Corolla 2017',\n",
       " 'Jeep Cherokee 2013',\n",
       " 'MG ZS 2022',\n",
       " 'Citroën C3 2022',\n",
       " 'MG Rx5 2019',\n",
       " 'Mercedes C 280 2009',\n",
       " 'Chery Tiggo 7 2022',\n",
       " 'Subaru XV 2016',\n",
       " 'Skoda Octavia A7 2016',\n",
       " 'Mercedes E 280 2007',\n",
       " 'Hyundai Elantra 2021',\n",
       " 'Hyundai IX 35 2015',\n",
       " 'Seat Ibiza 2019',\n",
       " 'Mercedes C 180 2009',\n",
       " 'Renault Kadjar 2017',\n",
       " 'BMW X1 2013',\n",
       " 'Toyota Belta 2022',\n",
       " 'Jeep Wrangler 2010',\n",
       " 'Opel Crossland 2021',\n",
       " 'BMW X1 2011',\n",
       " 'Ford Focus 2021',\n",
       " 'Kia Cerato 2019',\n",
       " 'Kia Soul 2017',\n",
       " 'Volkswagen Passat 2015',\n",
       " 'Volkswagen Passat 2016',\n",
       " 'Jac J7 2022',\n",
       " 'Hyundai Elantra AD 2020',\n",
       " 'Kia Grand Cerato 2019',\n",
       " 'Chevrolet T-Series 2022',\n",
       " 'Kia Sportage 2013',\n",
       " 'Skoda Octavia A7 2015',\n",
       " 'Hyundai IX 35 2014',\n",
       " 'Speranza Tiggo 2022',\n",
       " 'Hyundai Creta 2019',\n",
       " 'Kia Sportage 2012',\n",
       " 'Changan CS 55 2022',\n",
       " 'Brilliance V6 2021',\n",
       " 'Chery Tiggo 7 2021',\n",
       " 'Jeep Cherokee 2011',\n",
       " 'Hyundai IX 35 2013',\n",
       " 'Kia Carens 2017',\n",
       " 'BMW X1 2012',\n",
       " 'Kia Cerato 2021',\n",
       " 'Mazda 3 2019',\n",
       " 'Peugeot 508 2017',\n",
       " 'Chevrolet T-Series 2023',\n",
       " 'Opel Astra 2021',\n",
       " 'Hyundai Accent HCI 2021',\n",
       " 'Hyundai Elantra AD 2019',\n",
       " 'Mitsubishi Xpander 2019',\n",
       " 'BMW 525 2008',\n",
       " 'Nissan Qashqai 2017',\n",
       " 'Hyundai Creta 2017',\n",
       " 'Ford Kuga 2015',\n",
       " 'Mercedes 180 2010',\n",
       " 'MG ZS 2021',\n",
       " 'Opel Insignia 2015',\n",
       " 'MG 6 2020',\n",
       " 'Jeep Cherokee 2012',\n",
       " 'Dongfeng Aeolus A30 2022',\n",
       " 'Hyundai Creta 2016',\n",
       " 'MG 6 2019',\n",
       " 'Ssang Yong Tivoli XLV 2019',\n",
       " 'Hyundai Elantra HD 2022',\n",
       " 'Hyundai Accent RB 2023',\n",
       " 'Volkswagen Passat 2012',\n",
       " 'Chery Tiggo 3 2023',\n",
       " 'Nissan Sentra 2022',\n",
       " 'Citroën C5 2020',\n",
       " 'Kia Ceed 2019',\n",
       " 'MG 5 2022',\n",
       " 'Kia Cerato 2020',\n",
       " 'Renault Duster 2020',\n",
       " 'Citroën C3 Aircross 2021',\n",
       " 'Seat Toledo 2019',\n",
       " 'Toyota Corolla 2016',\n",
       " 'Suzuki Ertiga 2021',\n",
       " 'Opel Crossland 2020',\n",
       " 'Kia Soul 2015',\n",
       " 'Ssang Yong Tivoli 2019',\n",
       " 'BMW 525 2007',\n",
       " 'BMW 528 2013',\n",
       " 'Mercedes E 200 2004',\n",
       " 'Hyundai Accent HCI 2022',\n",
       " 'Opel Astra 2020',\n",
       " 'Kia Cerato 2018',\n",
       " 'Kia Soul 2016',\n",
       " 'BMW 523 2009',\n",
       " 'Suzuki Ciaz 2022',\n",
       " 'Fiat Tipo 2021',\n",
       " 'MG ZS 2020',\n",
       " 'Volkswagen Passat 2014',\n",
       " 'Skoda Octavia A7 2014',\n",
       " 'Brilliance V6 2019',\n",
       " 'Kia Carens 2016',\n",
       " 'Kia Carens 2015',\n",
       " 'Mercedes C 180 2014',\n",
       " 'BMW X1 2015',\n",
       " 'Jac S4 2021',\n",
       " 'Ford Focus 2018',\n",
       " 'Mercedes E 320 2003',\n",
       " 'Renault Megane 2018',\n",
       " 'Nissan Qashqai 2016',\n",
       " 'BMW X3 2010',\n",
       " 'Kia Cerato 2017',\n",
       " 'Subaru XV 2015',\n",
       " 'Mercedes E 200 2006',\n",
       " 'Ssang Yong Tivoli XLV 2018',\n",
       " 'Toyota Corolla 2015',\n",
       " 'Renault Duster 2019',\n",
       " 'Mercedes C 280 2008',\n",
       " 'Jac JS3 2022',\n",
       " 'Hyundai Accent RB 2022',\n",
       " 'BMW 320 2010',\n",
       " 'Citroën C Elysee 2022',\n",
       " 'Volkswagen Passat 2013',\n",
       " 'Jeep Cherokee 2010',\n",
       " 'Baic X3 2022',\n",
       " 'Jac S4 2020',\n",
       " 'Hyundai Elantra AD 2018',\n",
       " 'Peugeot 301 2022',\n",
       " 'Hyundai Elantra 2019',\n",
       " 'Seat Leon 2016',\n",
       " 'Opel Insignia 2014',\n",
       " 'Mini Countryman S 2011',\n",
       " 'Chevrolet T-Series 2021',\n",
       " 'Subaru XV 2017',\n",
       " 'Peugeot 508 2016',\n",
       " 'BMW 523 2011',\n",
       " 'Opel Astra 2019',\n",
       " 'Nissan Qashqai 2015',\n",
       " 'Nissan Sentra 2021',\n",
       " 'BMW 523 2008',\n",
       " 'Mitsubishi Pajero 2008',\n",
       " 'Renault Megane 2019',\n",
       " 'Toyota Corolla 2014',\n",
       " 'Suzuki Baleno 2022',\n",
       " 'Daihatsu Grand terios 2014',\n",
       " 'Toyota Rumion 2022',\n",
       " 'Kia Carens 2014',\n",
       " 'Nissan Sentra 2020',\n",
       " 'Hyundai Elantra AD 2017',\n",
       " 'BMW X3 2011',\n",
       " 'Mitsubishi Lancer EX Shark 2018',\n",
       " 'Geely Emgrand X7 2019',\n",
       " 'Opel Astra 2018',\n",
       " 'MG ZS 2019',\n",
       " 'Hyundai Elantra 2016',\n",
       " 'Peugeot 3008 2016',\n",
       " 'Kia Cerato 2016',\n",
       " 'MG 5 2021',\n",
       " 'Chevrolet Optra 2023',\n",
       " 'Chery Tiggo 3 2022',\n",
       " 'Hyundai Elantra HD 2021',\n",
       " 'Nissan Juke 2016',\n",
       " 'Jeep Grand Cherokee 2010',\n",
       " 'Zotye T600 2019',\n",
       " 'Nissan Sunny 2023',\n",
       " 'Speranza Tiggo 2021',\n",
       " 'Chery Tiggo 2022',\n",
       " 'BMW 318 2011',\n",
       " 'Ford EcoSport 2019',\n",
       " 'Peugeot 301 2021',\n",
       " 'DFSK EAGLE 580 2019',\n",
       " 'Mazda 3 2017',\n",
       " 'Peugeot 3008 2015',\n",
       " 'BMW 320 2009',\n",
       " 'Hyundai I10 2022',\n",
       " 'Peugeot 508 2014',\n",
       " 'Renault Sandero Step Way 2022',\n",
       " 'Peugeot 508 2015',\n",
       " 'Hyundai Accent RB 2021',\n",
       " 'Mitsubishi Lancer 2018',\n",
       " 'DFSK EAGLE 580 2018',\n",
       " 'Mazda 3 2016',\n",
       " 'Toyota Prado 2007',\n",
       " 'Fiat Tipo 2018',\n",
       " 'Mitsubishi Lancer EX Shark 2017',\n",
       " 'Opel Astra 2017',\n",
       " 'Hyundai Accent HCI 2020',\n",
       " 'Brilliance V6 2020',\n",
       " 'Hyundai Elantra AD 2016',\n",
       " 'Seat Leon 2015',\n",
       " 'Kia Cerato 2015',\n",
       " 'Kia K3 2015',\n",
       " 'Skoda Fantasia 2013',\n",
       " 'Isuzu D max 2016',\n",
       " 'Kia Soul 2014',\n",
       " 'BMW 525 2009',\n",
       " 'Renault Duster 2018',\n",
       " ...]"
      ]
     },
     "execution_count": 941,
     "metadata": {},
     "output_type": "execute_result"
    }
   ],
   "source": [
    "x = used_cars['car_model'].unique().tolist()\n",
    "x"
   ]
  },
  {
   "cell_type": "code",
   "execution_count": 942,
   "metadata": {},
   "outputs": [],
   "source": [
    "# zip and map\n",
    "y = ['Category A', 'Category B', 'Category C']\n",
    "z = dict(zip(x,y))\n",
    "used_cars['Category'] = used_cars['car_model'].map(z)"
   ]
  },
  {
   "cell_type": "code",
   "execution_count": 943,
   "metadata": {},
   "outputs": [
    {
     "data": {
      "text/html": [
       "<div>\n",
       "<style scoped>\n",
       "    .dataframe tbody tr th:only-of-type {\n",
       "        vertical-align: middle;\n",
       "    }\n",
       "\n",
       "    .dataframe tbody tr th {\n",
       "        vertical-align: top;\n",
       "    }\n",
       "\n",
       "    .dataframe thead th {\n",
       "        text-align: right;\n",
       "    }\n",
       "</style>\n",
       "<table border=\"1\" class=\"dataframe\">\n",
       "  <thead>\n",
       "    <tr style=\"text-align: right;\">\n",
       "      <th></th>\n",
       "      <th>web_scraper_order</th>\n",
       "      <th>car_model</th>\n",
       "      <th>month_year</th>\n",
       "      <th>average_price</th>\n",
       "      <th>minimum_price</th>\n",
       "      <th>maximum_price</th>\n",
       "      <th>brand</th>\n",
       "      <th>model</th>\n",
       "      <th>model_year</th>\n",
       "      <th>Category</th>\n",
       "    </tr>\n",
       "  </thead>\n",
       "  <tbody>\n",
       "    <tr>\n",
       "      <th>0</th>\n",
       "      <td>1680204632-1</td>\n",
       "      <td>Skoda Octavia A8 2022</td>\n",
       "      <td>2023-03</td>\n",
       "      <td>967000</td>\n",
       "      <td>926000</td>\n",
       "      <td>1017000</td>\n",
       "      <td>Skoda</td>\n",
       "      <td>Octavia A8</td>\n",
       "      <td>2022</td>\n",
       "      <td>Category A</td>\n",
       "    </tr>\n",
       "    <tr>\n",
       "      <th>1</th>\n",
       "      <td>1680204632-2</td>\n",
       "      <td>Skoda Octavia A8 2022</td>\n",
       "      <td>2023-02</td>\n",
       "      <td>979000</td>\n",
       "      <td>931000</td>\n",
       "      <td>1045000</td>\n",
       "      <td>Skoda</td>\n",
       "      <td>Octavia A8</td>\n",
       "      <td>2022</td>\n",
       "      <td>Category A</td>\n",
       "    </tr>\n",
       "    <tr>\n",
       "      <th>2</th>\n",
       "      <td>1680204632-3</td>\n",
       "      <td>Skoda Octavia A8 2022</td>\n",
       "      <td>2023-01</td>\n",
       "      <td>917000</td>\n",
       "      <td>893000</td>\n",
       "      <td>950000</td>\n",
       "      <td>Skoda</td>\n",
       "      <td>Octavia A8</td>\n",
       "      <td>2022</td>\n",
       "      <td>Category A</td>\n",
       "    </tr>\n",
       "    <tr>\n",
       "      <th>3</th>\n",
       "      <td>1680204632-4</td>\n",
       "      <td>Skoda Octavia A8 2022</td>\n",
       "      <td>2022-12</td>\n",
       "      <td>881000</td>\n",
       "      <td>793000</td>\n",
       "      <td>950000</td>\n",
       "      <td>Skoda</td>\n",
       "      <td>Octavia A8</td>\n",
       "      <td>2022</td>\n",
       "      <td>Category A</td>\n",
       "    </tr>\n",
       "    <tr>\n",
       "      <th>4</th>\n",
       "      <td>1680204632-5</td>\n",
       "      <td>Skoda Octavia A8 2022</td>\n",
       "      <td>2022-11</td>\n",
       "      <td>868000</td>\n",
       "      <td>789000</td>\n",
       "      <td>950000</td>\n",
       "      <td>Skoda</td>\n",
       "      <td>Octavia A8</td>\n",
       "      <td>2022</td>\n",
       "      <td>Category A</td>\n",
       "    </tr>\n",
       "    <tr>\n",
       "      <th>5</th>\n",
       "      <td>1680204632-6</td>\n",
       "      <td>Skoda Octavia A8 2022</td>\n",
       "      <td>2022-10</td>\n",
       "      <td>797000</td>\n",
       "      <td>789000</td>\n",
       "      <td>808000</td>\n",
       "      <td>Skoda</td>\n",
       "      <td>Octavia A8</td>\n",
       "      <td>2022</td>\n",
       "      <td>Category A</td>\n",
       "    </tr>\n",
       "    <tr>\n",
       "      <th>6</th>\n",
       "      <td>1680204632-7</td>\n",
       "      <td>Skoda Octavia A8 2022</td>\n",
       "      <td>2022-09</td>\n",
       "      <td>837000</td>\n",
       "      <td>770000</td>\n",
       "      <td>874000</td>\n",
       "      <td>Skoda</td>\n",
       "      <td>Octavia A8</td>\n",
       "      <td>2022</td>\n",
       "      <td>Category A</td>\n",
       "    </tr>\n",
       "    <tr>\n",
       "      <th>7</th>\n",
       "      <td>1680204632-8</td>\n",
       "      <td>Skoda Octavia A8 2022</td>\n",
       "      <td>2022-08</td>\n",
       "      <td>779000</td>\n",
       "      <td>722000</td>\n",
       "      <td>855000</td>\n",
       "      <td>Skoda</td>\n",
       "      <td>Octavia A8</td>\n",
       "      <td>2022</td>\n",
       "      <td>Category A</td>\n",
       "    </tr>\n",
       "    <tr>\n",
       "      <th>8</th>\n",
       "      <td>1680204632-9</td>\n",
       "      <td>Skoda Octavia A8 2022</td>\n",
       "      <td>2022-07</td>\n",
       "      <td>675000</td>\n",
       "      <td>608000</td>\n",
       "      <td>722000</td>\n",
       "      <td>Skoda</td>\n",
       "      <td>Octavia A8</td>\n",
       "      <td>2022</td>\n",
       "      <td>Category A</td>\n",
       "    </tr>\n",
       "    <tr>\n",
       "      <th>9</th>\n",
       "      <td>1680204632-10</td>\n",
       "      <td>Skoda Octavia A8 2022</td>\n",
       "      <td>2022-06</td>\n",
       "      <td>612000</td>\n",
       "      <td>580000</td>\n",
       "      <td>665000</td>\n",
       "      <td>Skoda</td>\n",
       "      <td>Octavia A8</td>\n",
       "      <td>2022</td>\n",
       "      <td>Category A</td>\n",
       "    </tr>\n",
       "    <tr>\n",
       "      <th>10</th>\n",
       "      <td>1680204632-11</td>\n",
       "      <td>Seat Ateca 2021</td>\n",
       "      <td>2023-03</td>\n",
       "      <td>960000</td>\n",
       "      <td>903000</td>\n",
       "      <td>998000</td>\n",
       "      <td>Seat</td>\n",
       "      <td>Ateca</td>\n",
       "      <td>2021</td>\n",
       "      <td>Category B</td>\n",
       "    </tr>\n",
       "    <tr>\n",
       "      <th>11</th>\n",
       "      <td>1680204632-12</td>\n",
       "      <td>Seat Ateca 2021</td>\n",
       "      <td>2023-02</td>\n",
       "      <td>964000</td>\n",
       "      <td>931000</td>\n",
       "      <td>998000</td>\n",
       "      <td>Seat</td>\n",
       "      <td>Ateca</td>\n",
       "      <td>2021</td>\n",
       "      <td>Category B</td>\n",
       "    </tr>\n",
       "    <tr>\n",
       "      <th>12</th>\n",
       "      <td>1680204632-13</td>\n",
       "      <td>Seat Ateca 2021</td>\n",
       "      <td>2023-01</td>\n",
       "      <td>861000</td>\n",
       "      <td>817000</td>\n",
       "      <td>950000</td>\n",
       "      <td>Seat</td>\n",
       "      <td>Ateca</td>\n",
       "      <td>2021</td>\n",
       "      <td>Category B</td>\n",
       "    </tr>\n",
       "    <tr>\n",
       "      <th>13</th>\n",
       "      <td>1680204632-14</td>\n",
       "      <td>Seat Ateca 2021</td>\n",
       "      <td>2022-12</td>\n",
       "      <td>868000</td>\n",
       "      <td>817000</td>\n",
       "      <td>903000</td>\n",
       "      <td>Seat</td>\n",
       "      <td>Ateca</td>\n",
       "      <td>2021</td>\n",
       "      <td>Category B</td>\n",
       "    </tr>\n",
       "    <tr>\n",
       "      <th>14</th>\n",
       "      <td>1680204632-15</td>\n",
       "      <td>Seat Ateca 2021</td>\n",
       "      <td>2022-11</td>\n",
       "      <td>888000</td>\n",
       "      <td>879000</td>\n",
       "      <td>903000</td>\n",
       "      <td>Seat</td>\n",
       "      <td>Ateca</td>\n",
       "      <td>2021</td>\n",
       "      <td>Category B</td>\n",
       "    </tr>\n",
       "  </tbody>\n",
       "</table>\n",
       "</div>"
      ],
      "text/plain": [
       "   web_scraper_order              car_model month_year  average_price  \\\n",
       "0       1680204632-1  Skoda Octavia A8 2022    2023-03         967000   \n",
       "1       1680204632-2  Skoda Octavia A8 2022    2023-02         979000   \n",
       "2       1680204632-3  Skoda Octavia A8 2022    2023-01         917000   \n",
       "3       1680204632-4  Skoda Octavia A8 2022    2022-12         881000   \n",
       "4       1680204632-5  Skoda Octavia A8 2022    2022-11         868000   \n",
       "5       1680204632-6  Skoda Octavia A8 2022    2022-10         797000   \n",
       "6       1680204632-7  Skoda Octavia A8 2022    2022-09         837000   \n",
       "7       1680204632-8  Skoda Octavia A8 2022    2022-08         779000   \n",
       "8       1680204632-9  Skoda Octavia A8 2022    2022-07         675000   \n",
       "9      1680204632-10  Skoda Octavia A8 2022    2022-06         612000   \n",
       "10     1680204632-11        Seat Ateca 2021    2023-03         960000   \n",
       "11     1680204632-12        Seat Ateca 2021    2023-02         964000   \n",
       "12     1680204632-13        Seat Ateca 2021    2023-01         861000   \n",
       "13     1680204632-14        Seat Ateca 2021    2022-12         868000   \n",
       "14     1680204632-15        Seat Ateca 2021    2022-11         888000   \n",
       "\n",
       "    minimum_price  maximum_price  brand       model model_year    Category  \n",
       "0          926000        1017000  Skoda  Octavia A8       2022  Category A  \n",
       "1          931000        1045000  Skoda  Octavia A8       2022  Category A  \n",
       "2          893000         950000  Skoda  Octavia A8       2022  Category A  \n",
       "3          793000         950000  Skoda  Octavia A8       2022  Category A  \n",
       "4          789000         950000  Skoda  Octavia A8       2022  Category A  \n",
       "5          789000         808000  Skoda  Octavia A8       2022  Category A  \n",
       "6          770000         874000  Skoda  Octavia A8       2022  Category A  \n",
       "7          722000         855000  Skoda  Octavia A8       2022  Category A  \n",
       "8          608000         722000  Skoda  Octavia A8       2022  Category A  \n",
       "9          580000         665000  Skoda  Octavia A8       2022  Category A  \n",
       "10         903000         998000   Seat       Ateca       2021  Category B  \n",
       "11         931000         998000   Seat       Ateca       2021  Category B  \n",
       "12         817000         950000   Seat       Ateca       2021  Category B  \n",
       "13         817000         903000   Seat       Ateca       2021  Category B  \n",
       "14         879000         903000   Seat       Ateca       2021  Category B  "
      ]
     },
     "execution_count": 943,
     "metadata": {},
     "output_type": "execute_result"
    }
   ],
   "source": [
    "used_cars[:15]"
   ]
  },
  {
   "cell_type": "code",
   "execution_count": 944,
   "metadata": {},
   "outputs": [
    {
     "data": {
      "image/png": "[encoded data removed]",
      "text/plain": [
       "<Figure size 640x480 with 1 Axes>"
      ]
     },
     "metadata": {},
     "output_type": "display_data"
    }
   ],
   "source": [
    "# Check Outliers \n",
    "used_cars.boxplot();\n",
    "\n",
    "# No Need to Delete it"
   ]
  },
  {
   "attachments": {},
   "cell_type": "markdown",
   "metadata": {},
   "source": [
    "# 4. Extract data to csv file "
   ]
  },
  {
   "cell_type": "code",
   "execution_count": 945,
   "metadata": {},
   "outputs": [],
   "source": [
    "used_cars.to_csv(\"used_cars_df.csv\", index=False)\n",
    "new_cars.to_csv(\"new_cars_df.xlsx\", index=False)"
   ]
  }
 ],
 "metadata": {
  "kernelspec": {
   "display_name": "venv_datac_pre_pro-aJayrYa0",
   "language": "python",
   "name": "python3"
  },
  "language_info": {
   "codemirror_mode": {
    "name": "ipython",
    "version": 3
   },
   "file_extension": ".py",
   "mimetype": "text/x-python",
   "name": "python",
   "nbconvert_exporter": "python",
   "pygments_lexer": "ipython3",
   "version": "3.11.2"
  },
  "orig_nbformat": 4
 },
 "nbformat": 4,
 "nbformat_minor": 2
}
